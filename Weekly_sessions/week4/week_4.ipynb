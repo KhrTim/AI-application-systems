{
  "nbformat": 4,
  "nbformat_minor": 0,
  "metadata": {
    "colab": {
      "provenance": [],
      "authorship_tag": "ABX9TyNGXObIGHg1ajX6kdtN7eVa",
      "include_colab_link": true
    },
    "kernelspec": {
      "name": "python3",
      "display_name": "Python 3"
    },
    "language_info": {
      "name": "python"
    }
  },
  "cells": [
    {
      "cell_type": "markdown",
      "metadata": {
        "id": "view-in-github",
        "colab_type": "text"
      },
      "source": [
        "<a href=\"https://colab.research.google.com/github/KhrTim/AI-application-systems/blob/main/Weekly_sessions/week4/week_4.ipynb\" target=\"_parent\"><img src=\"https://colab.research.google.com/assets/colab-badge.svg\" alt=\"Open In Colab\"/></a>"
      ]
    },
    {
      "cell_type": "markdown",
      "source": [
        "### Downloading dataset and unpacking in current directory "
      ],
      "metadata": {
        "id": "bl1E20XJzFKI"
      }
    },
    {
      "cell_type": "code",
      "source": [
        "!wget https://data.deepai.org/mnist.zip"
      ],
      "metadata": {
        "colab": {
          "base_uri": "https://localhost:8080/"
        },
        "id": "ZWCncZHUMlis",
        "outputId": "07363489-e2b9-4e45-bbf4-6ee3fbc8b604"
      },
      "execution_count": null,
      "outputs": [
        {
          "output_type": "stream",
          "name": "stdout",
          "text": [
            "--2022-10-17 13:49:41--  https://data.deepai.org/mnist.zip\n",
            "Resolving data.deepai.org (data.deepai.org)... 5.9.140.253\n",
            "Connecting to data.deepai.org (data.deepai.org)|5.9.140.253|:443... connected.\n",
            "HTTP request sent, awaiting response... 200 OK\n",
            "Length: 11597176 (11M) [application/x-zip-compressed]\n",
            "Saving to: ‘mnist.zip’\n",
            "\n",
            "mnist.zip           100%[===================>]  11.06M  71.3MB/s    in 0.2s    \n",
            "\n",
            "2022-10-17 13:49:42 (71.3 MB/s) - ‘mnist.zip’ saved [11597176/11597176]\n",
            "\n"
          ]
        }
      ]
    },
    {
      "cell_type": "code",
      "source": [
        "!unzip mnist.zip -d mnist"
      ],
      "metadata": {
        "colab": {
          "base_uri": "https://localhost:8080/"
        },
        "id": "ER2B3zEkKNH4",
        "outputId": "7916f057-8160-444a-9b50-e176daee32fb"
      },
      "execution_count": null,
      "outputs": [
        {
          "output_type": "stream",
          "name": "stdout",
          "text": [
            "Archive:  mnist.zip\n",
            "  inflating: mnist/train-labels-idx1-ubyte.gz  \n",
            "  inflating: mnist/train-images-idx3-ubyte.gz  \n",
            "  inflating: mnist/t10k-images-idx3-ubyte.gz  \n",
            "  inflating: mnist/t10k-labels-idx1-ubyte.gz  \n"
          ]
        }
      ]
    },
    {
      "cell_type": "code",
      "source": [
        "!for file in ./mnist/*; do gzip -d $file; done"
      ],
      "metadata": {
        "id": "lInpTpdxK9RQ"
      },
      "execution_count": null,
      "outputs": []
    },
    {
      "cell_type": "markdown",
      "source": [
        "### Installing idx2numpy library for an ease of data usage"
      ],
      "metadata": {
        "id": "RxILLtJ-zS5L"
      }
    },
    {
      "cell_type": "code",
      "source": [
        "!pip install idx2numpy"
      ],
      "metadata": {
        "colab": {
          "base_uri": "https://localhost:8080/"
        },
        "id": "fwn08pY4IwBP",
        "outputId": "3082fde8-51c9-4346-f98c-bcb47739d3d8"
      },
      "execution_count": null,
      "outputs": [
        {
          "output_type": "stream",
          "name": "stdout",
          "text": [
            "Looking in indexes: https://pypi.org/simple, https://us-python.pkg.dev/colab-wheels/public/simple/\n",
            "Collecting idx2numpy\n",
            "  Downloading idx2numpy-1.2.3.tar.gz (6.8 kB)\n",
            "Requirement already satisfied: numpy in /usr/local/lib/python3.7/dist-packages (from idx2numpy) (1.21.6)\n",
            "Requirement already satisfied: six in /usr/local/lib/python3.7/dist-packages (from idx2numpy) (1.15.0)\n",
            "Building wheels for collected packages: idx2numpy\n",
            "  Building wheel for idx2numpy (setup.py) ... \u001b[?25l\u001b[?25hdone\n",
            "  Created wheel for idx2numpy: filename=idx2numpy-1.2.3-py3-none-any.whl size=7917 sha256=59979e5d991dd3d28717b120ca15d908e553fd9ecca09fa418675110ed4fb594\n",
            "  Stored in directory: /root/.cache/pip/wheels/1a/ce/ad/d5e95a35cfe34149aade5e500f2edd535c0566d79e9a8e1d8a\n",
            "Successfully built idx2numpy\n",
            "Installing collected packages: idx2numpy\n",
            "Successfully installed idx2numpy-1.2.3\n"
          ]
        }
      ]
    },
    {
      "cell_type": "code",
      "source": [
        "import idx2numpy"
      ],
      "metadata": {
        "id": "1Un2Usx9IW4i"
      },
      "execution_count": null,
      "outputs": []
    },
    {
      "cell_type": "code",
      "execution_count": null,
      "metadata": {
        "colab": {
          "base_uri": "https://localhost:8080/"
        },
        "id": "ihgWS4LKINI1",
        "outputId": "1b51b1b0-7645-4eda-a42a-ee6a82ecfe6f"
      },
      "outputs": [
        {
          "output_type": "stream",
          "name": "stdout",
          "text": [
            "dimensions of train_images:  (60000, 28, 28)\n",
            "dimensions of train_labels:  (60000,)\n",
            "dimensions of test_images:  (10000, 28, 28)\n",
            "dimensions of test_images:  (10000,)\n"
          ]
        }
      ],
      "source": [
        "TRAIN_IMAGE_FILENAME = \"./mnist/train-images-idx3-ubyte\"\n",
        "TRAIN_LABEL_FILENAME = \"./mnist/train-labels-idx1-ubyte\"\n",
        "TEST_IMAGE_FILENAME = \"./mnist/t10k-images-idx3-ubyte\"\n",
        "TEST_LABEL_FILENAME = \"./mnist/t10k-labels-idx1-ubyte\"\n",
        "# Read files.\n",
        "train_images = idx2numpy.convert_from_file(TRAIN_IMAGE_FILENAME)\n",
        "train_labels = idx2numpy.convert_from_file(TRAIN_LABEL_FILENAME)\n",
        "test_images = idx2numpy.convert_from_file(TEST_IMAGE_FILENAME)\n",
        "test_labels = idx2numpy.convert_from_file(TEST_LABEL_FILENAME)\n",
        "# Print dimensions.\n",
        "print('dimensions of train_images: ', train_images.shape)\n",
        "print('dimensions of train_labels: ', train_labels.shape)\n",
        "print('dimensions of test_images: ', test_images.shape)\n",
        "print('dimensions of test_images: ', test_labels.shape)"
      ]
    },
    {
      "cell_type": "code",
      "source": [
        "\"\"\"\n",
        "  Exploring the MNIST dataset.\n",
        "  Let's print the 6-th element from the dataset.\n",
        "  Turns out that it's 2 and we can see the way it's represented\n",
        "  in the dataset\n",
        "\"\"\"\n",
        "print(\"label for first training example: \", train_labels[5])\n",
        "print('---beginning of pattern for first training example---')\n",
        "for line in train_images[5]:\n",
        "  for num in line:\n",
        "    if num > 0:\n",
        "      print('*', end = '')\n",
        "    else:\n",
        "      print(' ', end = '')\n",
        "  print('')\n",
        "print('---end of pattern for first training example---')"
      ],
      "metadata": {
        "colab": {
          "base_uri": "https://localhost:8080/"
        },
        "id": "jlR6oHCNJubA",
        "outputId": "4d2f5cc4-27f6-4df9-84fd-ba0d2ea62801"
      },
      "execution_count": null,
      "outputs": [
        {
          "output_type": "stream",
          "name": "stdout",
          "text": [
            "label for first training example:  2\n",
            "---beginning of pattern for first training example---\n",
            "                            \n",
            "                            \n",
            "                            \n",
            "                            \n",
            "                            \n",
            "               *****        \n",
            "             *******        \n",
            "           **********       \n",
            "         ************       \n",
            "         ******* ****       \n",
            "         ******  ****       \n",
            "         ****    ****       \n",
            "                 ****       \n",
            "             ********       \n",
            "          **********        \n",
            "        *************       \n",
            "       ****** ********      \n",
            "      ****** ************   \n",
            "     ****** ***** *******   \n",
            "     ***********     ****   \n",
            "     **********             \n",
            "     *********              \n",
            "     ******                 \n",
            "                            \n",
            "                            \n",
            "                            \n",
            "                            \n",
            "                            \n",
            "---end of pattern for first training example---\n"
          ]
        }
      ]
    },
    {
      "cell_type": "code",
      "source": [],
      "metadata": {
        "id": "sD_-s4-3NEBC"
      },
      "execution_count": null,
      "outputs": []
    }
  ]
}