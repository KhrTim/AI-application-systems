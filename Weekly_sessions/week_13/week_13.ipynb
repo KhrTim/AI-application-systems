{
  "cells": [
    {
      "cell_type": "markdown",
      "metadata": {
        "id": "view-in-github",
        "colab_type": "text"
      },
      "source": [
        "<a href=\"https://colab.research.google.com/github/KhrTim/AI-application-systems/blob/main/Weekly_sessions/week_13/week_13.ipynb\" target=\"_parent\"><img src=\"https://colab.research.google.com/assets/colab-badge.svg\" alt=\"Open In Colab\"/></a>"
      ]
    },
    {
      "cell_type": "code",
      "source": [
        "!nvidia-smi"
      ],
      "metadata": {
        "id": "qxUERWDEQknj",
        "outputId": "beb7930d-eb3d-4792-a2fc-675737e23c40",
        "colab": {
          "base_uri": "https://localhost:8080/"
        }
      },
      "execution_count": 1,
      "outputs": [
        {
          "output_type": "stream",
          "name": "stdout",
          "text": [
            "Fri Nov 25 10:10:28 2022       \n",
            "+-----------------------------------------------------------------------------+\n",
            "| NVIDIA-SMI 460.32.03    Driver Version: 460.32.03    CUDA Version: 11.2     |\n",
            "|-------------------------------+----------------------+----------------------+\n",
            "| GPU  Name        Persistence-M| Bus-Id        Disp.A | Volatile Uncorr. ECC |\n",
            "| Fan  Temp  Perf  Pwr:Usage/Cap|         Memory-Usage | GPU-Util  Compute M. |\n",
            "|                               |                      |               MIG M. |\n",
            "|===============================+======================+======================|\n",
            "|   0  Tesla T4            Off  | 00000000:00:04.0 Off |                    0 |\n",
            "| N/A   56C    P8    10W /  70W |      0MiB / 15109MiB |      0%      Default |\n",
            "|                               |                      |                  N/A |\n",
            "+-------------------------------+----------------------+----------------------+\n",
            "                                                                               \n",
            "+-----------------------------------------------------------------------------+\n",
            "| Processes:                                                                  |\n",
            "|  GPU   GI   CI        PID   Type   Process name                  GPU Memory |\n",
            "|        ID   ID                                                   Usage      |\n",
            "|=============================================================================|\n",
            "|  No running processes found                                                 |\n",
            "+-----------------------------------------------------------------------------+\n"
          ]
        }
      ]
    },
    {
      "cell_type": "code",
      "execution_count": 2,
      "metadata": {
        "colab": {
          "base_uri": "https://localhost:8080/"
        },
        "id": "jJ3TGa3uLGi5",
        "outputId": "df517c63-6b98-4438-cf97-96feaa0dbca3"
      },
      "outputs": [
        {
          "output_type": "stream",
          "name": "stdout",
          "text": [
            "  % Total    % Received % Xferd  Average Speed   Time    Time     Time  Current\n",
            "                                 Dload  Upload   Total   Spent    Left  Speed\n",
            "100 80.2M  100 80.2M    0     0  19.7M      0  0:00:04  0:00:04 --:--:-- 19.7M\n"
          ]
        }
      ],
      "source": [
        "!curl -O https://ai.stanford.edu/~amaas/data/sentiment/aclImdb_v1.tar.gz\n",
        "!tar -xf aclImdb_v1.tar.gz\n",
        "!rm -r aclImdb/train/unsup"
      ]
    },
    {
      "cell_type": "code",
      "execution_count": 3,
      "metadata": {
        "colab": {
          "base_uri": "https://localhost:8080/"
        },
        "id": "ynT93oxhLeRp",
        "outputId": "01f5cf8a-3b5e-44ae-c2dd-03488702de2c"
      },
      "outputs": [
        {
          "output_type": "stream",
          "name": "stdout",
          "text": [
            "Found 20000 files belonging to 2 classes.\n",
            "Found 5000 files belonging to 2 classes.\n",
            "Found 25000 files belonging to 2 classes.\n"
          ]
        }
      ],
      "source": [
        "import os, pathlib, shutil, random\n",
        "from tensorflow import keras\n",
        "batch_size = 32\n",
        "base_dir = pathlib.Path(\"aclImdb\")\n",
        "val_dir = base_dir / \"val\"\n",
        "train_dir = base_dir / \"train\"\n",
        "for category in (\"neg\", \"pos\"):\n",
        "  os.makedirs(val_dir / category)\n",
        "  files = os.listdir(train_dir / category)\n",
        "  random.Random(1337).shuffle(files)\n",
        "  num_val_samples = int(0.2 * len(files))\n",
        "  val_files = files[-num_val_samples:]\n",
        "  for fname in val_files:\n",
        "    shutil.move(train_dir / category / fname,\n",
        "                val_dir / category / fname)\n",
        "\n",
        "train_ds = keras.utils.text_dataset_from_directory(\n",
        "    \"aclImdb/train\", batch_size=batch_size\n",
        ")\n",
        "val_ds = keras.utils.text_dataset_from_directory(\n",
        "    \"aclImdb/val\", batch_size=batch_size\n",
        ")\n",
        "test_ds = keras.utils.text_dataset_from_directory(\n",
        "    \"aclImdb/test\", batch_size=batch_size\n",
        ")\n",
        "text_only_train_ds = train_ds.map(lambda x, y: x)"
      ]
    },
    {
      "cell_type": "code",
      "execution_count": 4,
      "metadata": {
        "id": "XO7bvCkCLeVM"
      },
      "outputs": [],
      "source": [
        "from tensorflow.keras import layers\n",
        "\n",
        "max_length = 600\n",
        "max_tokens = 20000\n",
        "text_vectorization = layers.TextVectorization(\n",
        "    max_tokens = max_tokens,\n",
        "    output_mode = \"int\",\n",
        "    output_sequence_length = max_length,\n",
        ")\n",
        "text_vectorization.adapt(text_only_train_ds)\n",
        "\n",
        "int_train_ds = train_ds.map(\n",
        "    lambda x, y: (text_vectorization(x), y),\n",
        "    num_parallel_calls=4\n",
        ")\n",
        "int_val_ds = train_ds.map(\n",
        "    lambda x, y: (text_vectorization(x), y),\n",
        "    num_parallel_calls=4\n",
        ")\n",
        "int_test_ds = train_ds.map(\n",
        "    lambda x, y: (text_vectorization(x), y),\n",
        "    num_parallel_calls=4\n",
        ")"
      ]
    },
    {
      "cell_type": "code",
      "execution_count": 5,
      "metadata": {
        "colab": {
          "base_uri": "https://localhost:8080/"
        },
        "id": "m92HfkpnLeXa",
        "outputId": "dc468a56-2465-469a-b013-be14ff81b9e6"
      },
      "outputs": [
        {
          "output_type": "stream",
          "name": "stdout",
          "text": [
            "Model: \"model\"\n",
            "_________________________________________________________________\n",
            " Layer (type)                Output Shape              Param #   \n",
            "=================================================================\n",
            " input_1 (InputLayer)        [(None, None)]            0         \n",
            "                                                                 \n",
            " tf.one_hot (TFOpLambda)     (None, None, 20000)       0         \n",
            "                                                                 \n",
            " bidirectional (Bidirectiona  (None, 64)               5128448   \n",
            " l)                                                              \n",
            "                                                                 \n",
            " dropout (Dropout)           (None, 64)                0         \n",
            "                                                                 \n",
            " dense (Dense)               (None, 1)                 65        \n",
            "                                                                 \n",
            "=================================================================\n",
            "Total params: 5,128,513\n",
            "Trainable params: 5,128,513\n",
            "Non-trainable params: 0\n",
            "_________________________________________________________________\n"
          ]
        }
      ],
      "source": [
        "import tensorflow as tf\n",
        "inputs = keras.Input(shape=(None,), dtype=\"int64\")\n",
        "embedded = tf.one_hot(inputs, depth=max_tokens)\n",
        "x = layers.Bidirectional(layers.LSTM(32))(embedded)\n",
        "x = layers.Dropout(0.5)(x)\n",
        "ouputs = layers.Dense(1, activation=\"sigmoid\")(x)\n",
        "model = keras.Model(inputs, ouputs)\n",
        "model.compile(\n",
        "    optimizer=\"rmsprop\",\n",
        "    loss=\"binary_crossentropy\",\n",
        "    metrics=[\"accuracy\"]\n",
        ")\n",
        "model.summary()"
      ]
    },
    {
      "cell_type": "code",
      "execution_count": 6,
      "metadata": {
        "colab": {
          "base_uri": "https://localhost:8080/"
        },
        "id": "_sqw2XcILedr",
        "outputId": "415ea2c8-0559-442b-ab0c-e10b53b2495c"
      },
      "outputs": [
        {
          "output_type": "stream",
          "name": "stdout",
          "text": [
            "Epoch 1/10\n",
            "625/625 [==============================] - 244s 376ms/step - loss: 0.5350 - accuracy: 0.7434 - val_loss: 0.3336 - val_accuracy: 0.8707\n",
            "Epoch 2/10\n",
            "625/625 [==============================] - 238s 381ms/step - loss: 0.3569 - accuracy: 0.8683 - val_loss: 0.2315 - val_accuracy: 0.9130\n",
            "Epoch 3/10\n",
            "625/625 [==============================] - 237s 380ms/step - loss: 0.2833 - accuracy: 0.8998 - val_loss: 0.1917 - val_accuracy: 0.9319\n",
            "Epoch 4/10\n",
            "625/625 [==============================] - 238s 380ms/step - loss: 0.2370 - accuracy: 0.9193 - val_loss: 0.1581 - val_accuracy: 0.9447\n",
            "Epoch 5/10\n",
            "625/625 [==============================] - 238s 381ms/step - loss: 0.2031 - accuracy: 0.9323 - val_loss: 0.1286 - val_accuracy: 0.9581\n",
            "Epoch 6/10\n",
            "625/625 [==============================] - 237s 380ms/step - loss: 0.1839 - accuracy: 0.9391 - val_loss: 0.1298 - val_accuracy: 0.9564\n",
            "Epoch 7/10\n",
            "625/625 [==============================] - 238s 381ms/step - loss: 0.1560 - accuracy: 0.9484 - val_loss: 0.1575 - val_accuracy: 0.9464\n",
            "Epoch 8/10\n",
            "625/625 [==============================] - 239s 382ms/step - loss: 0.1396 - accuracy: 0.9559 - val_loss: 0.1058 - val_accuracy: 0.9640\n",
            "Epoch 9/10\n",
            "625/625 [==============================] - 238s 381ms/step - loss: 0.1293 - accuracy: 0.9599 - val_loss: 0.1520 - val_accuracy: 0.9479\n",
            "Epoch 10/10\n",
            "625/625 [==============================] - 240s 383ms/step - loss: 0.1096 - accuracy: 0.9651 - val_loss: 0.0644 - val_accuracy: 0.9808\n",
            "625/625 [==============================] - 84s 134ms/step - loss: 0.0644 - accuracy: 0.9808\n",
            "Test acc: 0.981\n"
          ]
        }
      ],
      "source": [
        "callbacks = [\n",
        "    keras.callbacks.ModelCheckpoint(\"one_hot_bidir_lstm.keras\",\n",
        "    save_best_only=True)\n",
        "]\n",
        "model.fit(int_train_ds, validation_data=int_val_ds, \n",
        "          epochs=10, callbacks=callbacks)\n",
        "model = keras.models.load_model(\"one_hot_bidir_lstm.keras\")\n",
        "print(f\"Test acc: {model.evaluate(int_test_ds)[1]:.3f}\")"
      ]
    },
    {
      "cell_type": "code",
      "execution_count": 7,
      "metadata": {
        "id": "rg7CH9OzT88V"
      },
      "outputs": [],
      "source": [
        "embedding_layer = layers.Embedding(input_dim=max_tokens, output_dim=256)\n"
      ]
    },
    {
      "cell_type": "code",
      "execution_count": 8,
      "metadata": {
        "colab": {
          "base_uri": "https://localhost:8080/"
        },
        "id": "oO7VQ7ShULyq",
        "outputId": "c8e03463-55fd-4a5b-c1e4-e2c1868fe8ea"
      },
      "outputs": [
        {
          "output_type": "stream",
          "name": "stdout",
          "text": [
            "Model: \"model_1\"\n",
            "_________________________________________________________________\n",
            " Layer (type)                Output Shape              Param #   \n",
            "=================================================================\n",
            " input_2 (InputLayer)        [(None, None)]            0         \n",
            "                                                                 \n",
            " embedding_1 (Embedding)     (None, None, 256)         5120000   \n",
            "                                                                 \n",
            " bidirectional_1 (Bidirectio  (None, 64)               73984     \n",
            " nal)                                                            \n",
            "                                                                 \n",
            " dropout_1 (Dropout)         (None, 64)                0         \n",
            "                                                                 \n",
            " dense_1 (Dense)             (None, 1)                 65        \n",
            "                                                                 \n",
            "=================================================================\n",
            "Total params: 5,194,049\n",
            "Trainable params: 5,194,049\n",
            "Non-trainable params: 0\n",
            "_________________________________________________________________\n",
            "Epoch 1/10\n",
            "625/625 [==============================] - 51s 75ms/step - loss: 0.4749 - accuracy: 0.7868 - val_loss: 0.2776 - val_accuracy: 0.9018\n",
            "Epoch 2/10\n",
            "625/625 [==============================] - 46s 73ms/step - loss: 0.3029 - accuracy: 0.8893 - val_loss: 0.2199 - val_accuracy: 0.9172\n",
            "Epoch 3/10\n",
            "625/625 [==============================] - 47s 75ms/step - loss: 0.2422 - accuracy: 0.9165 - val_loss: 0.1589 - val_accuracy: 0.9457\n",
            "Epoch 4/10\n",
            "625/625 [==============================] - 46s 74ms/step - loss: 0.2048 - accuracy: 0.9300 - val_loss: 0.1172 - val_accuracy: 0.9613\n",
            "Epoch 5/10\n",
            "625/625 [==============================] - 46s 73ms/step - loss: 0.1752 - accuracy: 0.9410 - val_loss: 0.1038 - val_accuracy: 0.9646\n",
            "Epoch 6/10\n",
            "625/625 [==============================] - 45s 73ms/step - loss: 0.1465 - accuracy: 0.9499 - val_loss: 0.0900 - val_accuracy: 0.9698\n",
            "Epoch 7/10\n",
            "625/625 [==============================] - 47s 76ms/step - loss: 0.1287 - accuracy: 0.9573 - val_loss: 0.0844 - val_accuracy: 0.9753\n",
            "Epoch 8/10\n",
            "625/625 [==============================] - 46s 74ms/step - loss: 0.1083 - accuracy: 0.9645 - val_loss: 0.0753 - val_accuracy: 0.9754\n",
            "Epoch 9/10\n",
            "625/625 [==============================] - 47s 74ms/step - loss: 0.0918 - accuracy: 0.9702 - val_loss: 0.0813 - val_accuracy: 0.9743\n",
            "Epoch 10/10\n",
            "625/625 [==============================] - 46s 74ms/step - loss: 0.0783 - accuracy: 0.9747 - val_loss: 0.0401 - val_accuracy: 0.9873\n",
            "625/625 [==============================] - 18s 28ms/step - loss: 0.0401 - accuracy: 0.9873\n",
            "Test acc: 0.987\n"
          ]
        }
      ],
      "source": [
        "inputs = keras.Input(shape=(None,), dtype=\"int64\")\n",
        "embedded = layers.Embedding(input_dim=max_tokens, output_dim=256)(inputs)\n",
        "x = layers.Bidirectional(layers.LSTM(32))(embedded)\n",
        "x = layers.Dropout(0.5)(x)\n",
        "ouputs = layers.Dense(1, activation=\"sigmoid\")(x)\n",
        "model = keras.Model(inputs, ouputs)\n",
        "model.compile(\n",
        "    optimizer=\"rmsprop\",\n",
        "    loss=\"binary_crossentropy\",\n",
        "    metrics=[\"accuracy\"]\n",
        ")\n",
        "model.summary()\n",
        "callbacks = [\n",
        "    keras.callbacks.ModelCheckpoint(\"embeddings_bidir_gru.keras\",\n",
        "    save_best_only=True)\n",
        "]\n",
        "model.fit(int_train_ds, validation_data=int_val_ds, \n",
        "          epochs=10, callbacks=callbacks)\n",
        "model = keras.models.load_model(\"embeddings_bidir_gru.keras\")\n",
        "print(f\"Test acc: {model.evaluate(int_test_ds)[1]:.3f}\")"
      ]
    },
    {
      "cell_type": "code",
      "execution_count": 9,
      "metadata": {
        "id": "t-bvaXR9UL1L",
        "colab": {
          "base_uri": "https://localhost:8080/"
        },
        "outputId": "6132af7f-60b9-44ec-da92-1de96fe9e789"
      },
      "outputs": [
        {
          "output_type": "stream",
          "name": "stdout",
          "text": [
            "Model: \"model_2\"\n",
            "_________________________________________________________________\n",
            " Layer (type)                Output Shape              Param #   \n",
            "=================================================================\n",
            " input_3 (InputLayer)        [(None, None)]            0         \n",
            "                                                                 \n",
            " embedding_2 (Embedding)     (None, None, 256)         5120000   \n",
            "                                                                 \n",
            " bidirectional_2 (Bidirectio  (None, 64)               73984     \n",
            " nal)                                                            \n",
            "                                                                 \n",
            " dropout_2 (Dropout)         (None, 64)                0         \n",
            "                                                                 \n",
            " dense_2 (Dense)             (None, 1)                 65        \n",
            "                                                                 \n",
            "=================================================================\n",
            "Total params: 5,194,049\n",
            "Trainable params: 5,194,049\n",
            "Non-trainable params: 0\n",
            "_________________________________________________________________\n",
            "Epoch 1/10\n",
            "625/625 [==============================] - 66s 93ms/step - loss: 0.4019 - accuracy: 0.8170 - val_loss: 0.2068 - val_accuracy: 0.9277\n",
            "Epoch 2/10\n",
            "625/625 [==============================] - 56s 89ms/step - loss: 0.2320 - accuracy: 0.9108 - val_loss: 0.1317 - val_accuracy: 0.9514\n",
            "Epoch 3/10\n",
            "625/625 [==============================] - 51s 82ms/step - loss: 0.1646 - accuracy: 0.9385 - val_loss: 0.0902 - val_accuracy: 0.9693\n",
            "Epoch 4/10\n",
            "625/625 [==============================] - 50s 81ms/step - loss: 0.1245 - accuracy: 0.9555 - val_loss: 0.0837 - val_accuracy: 0.9736\n",
            "Epoch 5/10\n",
            "625/625 [==============================] - 53s 84ms/step - loss: 0.0922 - accuracy: 0.9689 - val_loss: 0.0415 - val_accuracy: 0.9880\n",
            "Epoch 6/10\n",
            "625/625 [==============================] - 51s 82ms/step - loss: 0.0673 - accuracy: 0.9768 - val_loss: 0.0289 - val_accuracy: 0.9909\n",
            "Epoch 7/10\n",
            "625/625 [==============================] - 52s 83ms/step - loss: 0.0489 - accuracy: 0.9841 - val_loss: 0.0215 - val_accuracy: 0.9931\n",
            "Epoch 8/10\n",
            "625/625 [==============================] - 57s 92ms/step - loss: 0.0349 - accuracy: 0.9891 - val_loss: 0.0369 - val_accuracy: 0.9872\n",
            "Epoch 9/10\n",
            "625/625 [==============================] - 53s 85ms/step - loss: 0.0269 - accuracy: 0.9915 - val_loss: 0.0064 - val_accuracy: 0.9976\n",
            "Epoch 10/10\n",
            "625/625 [==============================] - 56s 90ms/step - loss: 0.0162 - accuracy: 0.9947 - val_loss: 0.0094 - val_accuracy: 0.9966\n",
            "625/625 [==============================] - 24s 34ms/step - loss: 0.0064 - accuracy: 0.9976\n",
            "Test acc: 0.998\n"
          ]
        }
      ],
      "source": [
        "inputs = keras.Input(shape=(None,), dtype=\"int64\")\n",
        "embedded = layers.Embedding(\n",
        "    input_dim=max_tokens, output_dim=256, mask_zero=True)(inputs)\n",
        "x = layers.Bidirectional(layers.LSTM(32))(embedded)\n",
        "x = layers.Dropout(0.5)(x)\n",
        "ouputs = layers.Dense(1, activation=\"sigmoid\")(x)\n",
        "model = keras.Model(inputs, ouputs)\n",
        "model.compile(\n",
        "    optimizer=\"rmsprop\",\n",
        "    loss=\"binary_crossentropy\",\n",
        "    metrics=[\"accuracy\"]\n",
        ")\n",
        "model.summary()\n",
        "callbacks = [\n",
        "    keras.callbacks.ModelCheckpoint(\"embeddings_bidir_gru_with_masking.keras\",\n",
        "    save_best_only=True)\n",
        "]\n",
        "model.fit(int_train_ds, validation_data=int_val_ds, \n",
        "          epochs=10, callbacks=callbacks)\n",
        "model = keras.models.load_model(\"embeddings_bidir_gru_with_masking.keras\")\n",
        "print(f\"Test acc: {model.evaluate(int_test_ds)[1]:.3f}\")"
      ]
    },
    {
      "cell_type": "code",
      "execution_count": null,
      "metadata": {
        "id": "UuVgNLCIUL3w"
      },
      "outputs": [],
      "source": []
    },
    {
      "cell_type": "code",
      "execution_count": null,
      "metadata": {
        "id": "ny1XqR5bUL6X"
      },
      "outputs": [],
      "source": []
    },
    {
      "cell_type": "code",
      "execution_count": null,
      "metadata": {
        "id": "C33MViuAUL9G"
      },
      "outputs": [],
      "source": []
    }
  ],
  "metadata": {
    "accelerator": "GPU",
    "colab": {
      "provenance": [],
      "authorship_tag": "ABX9TyN3f589b3M57sWhzrxTPAi1",
      "include_colab_link": true
    },
    "gpuClass": "standard",
    "kernelspec": {
      "display_name": "Python 3",
      "name": "python3"
    },
    "language_info": {
      "name": "python"
    }
  },
  "nbformat": 4,
  "nbformat_minor": 0
}