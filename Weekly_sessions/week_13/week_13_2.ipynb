{
  "cells": [
    {
      "cell_type": "markdown",
      "metadata": {
        "id": "view-in-github",
        "colab_type": "text"
      },
      "source": [
        "<a href=\"https://colab.research.google.com/github/KhrTim/AI-application-systems/blob/main/Weekly_sessions/week_13/week_13_2.ipynb\" target=\"_parent\"><img src=\"https://colab.research.google.com/assets/colab-badge.svg\" alt=\"Open In Colab\"/></a>"
      ]
    },
    {
      "cell_type": "markdown",
      "source": [
        "# Processing words as a sequence: The sequence model approach"
      ],
      "metadata": {
        "id": "3jLVE0l89XNf"
      }
    },
    {
      "cell_type": "markdown",
      "source": [
        "### A first practical example"
      ],
      "metadata": {
        "id": "S2fwiaja9dz3"
      }
    },
    {
      "cell_type": "markdown",
      "source": [
        "### Downloading the data"
      ],
      "metadata": {
        "id": "ep1fDIQv9hBh"
      }
    },
    {
      "cell_type": "code",
      "execution_count": 2,
      "metadata": {
        "colab": {
          "base_uri": "https://localhost:8080/"
        },
        "id": "jJ3TGa3uLGi5",
        "outputId": "eedc0fad-6fc6-49d6-a4c6-7092d4bddd43"
      },
      "outputs": [
        {
          "output_type": "stream",
          "name": "stdout",
          "text": [
            "  % Total    % Received % Xferd  Average Speed   Time    Time     Time  Current\n",
            "                                 Dload  Upload   Total   Spent    Left  Speed\n",
            "100 80.2M  100 80.2M    0     0  10.6M      0  0:00:07  0:00:07 --:--:-- 13.1M\n"
          ]
        }
      ],
      "source": [
        "!curl -O https://ai.stanford.edu/~amaas/data/sentiment/aclImdb_v1.tar.gz\n",
        "!tar -xf aclImdb_v1.tar.gz\n",
        "!rm -r aclImdb/train/unsup"
      ]
    },
    {
      "cell_type": "markdown",
      "source": [
        "### Preparing the data"
      ],
      "metadata": {
        "id": "HxT3QutR9mos"
      }
    },
    {
      "cell_type": "code",
      "execution_count": 3,
      "metadata": {
        "colab": {
          "base_uri": "https://localhost:8080/"
        },
        "id": "ynT93oxhLeRp",
        "outputId": "01116810-e245-4e1a-b385-fa0287c345a8"
      },
      "outputs": [
        {
          "output_type": "stream",
          "name": "stdout",
          "text": [
            "Found 20000 files belonging to 2 classes.\n",
            "Found 5000 files belonging to 2 classes.\n",
            "Found 25000 files belonging to 2 classes.\n"
          ]
        }
      ],
      "source": [
        "import os, pathlib, shutil, random\n",
        "from tensorflow import keras\n",
        "batch_size = 32\n",
        "base_dir = pathlib.Path(\"aclImdb\")\n",
        "val_dir = base_dir / \"val\"\n",
        "train_dir = base_dir / \"train\"\n",
        "for category in (\"neg\", \"pos\"):\n",
        "  os.makedirs(val_dir / category)\n",
        "  files = os.listdir(train_dir / category)\n",
        "  random.Random(1337).shuffle(files)\n",
        "  num_val_samples = int(0.2 * len(files))\n",
        "  val_files = files[-num_val_samples:]\n",
        "  for fname in val_files:\n",
        "    shutil.move(train_dir / category / fname,\n",
        "                val_dir / category / fname)\n",
        "\n",
        "train_ds = keras.utils.text_dataset_from_directory(\n",
        "    \"aclImdb/train\", batch_size=batch_size\n",
        ")\n",
        "val_ds = keras.utils.text_dataset_from_directory(\n",
        "    \"aclImdb/val\", batch_size=batch_size\n",
        ")\n",
        "test_ds = keras.utils.text_dataset_from_directory(\n",
        "    \"aclImdb/test\", batch_size=batch_size\n",
        ")\n",
        "text_only_train_ds = train_ds.map(lambda x, y: x)"
      ]
    },
    {
      "cell_type": "markdown",
      "source": [
        "### Preparing integer seuence datasets"
      ],
      "metadata": {
        "id": "8ysCh70z9rFH"
      }
    },
    {
      "cell_type": "code",
      "execution_count": 4,
      "metadata": {
        "id": "XO7bvCkCLeVM"
      },
      "outputs": [],
      "source": [
        "from tensorflow.keras import layers\n",
        "\n",
        "max_length = 600\n",
        "max_tokens = 20000\n",
        "text_vectorization = layers.TextVectorization(\n",
        "    max_tokens = max_tokens,\n",
        "    output_mode = \"int\",\n",
        "    output_sequence_length = max_length,\n",
        ")\n",
        "text_vectorization.adapt(text_only_train_ds)\n",
        "\n",
        "int_train_ds = train_ds.map(\n",
        "    lambda x, y: (text_vectorization(x), y),\n",
        "    num_parallel_calls=4\n",
        ")\n",
        "int_val_ds = train_ds.map(\n",
        "    lambda x, y: (text_vectorization(x), y),\n",
        "    num_parallel_calls=4\n",
        ")\n",
        "int_test_ds = train_ds.map(\n",
        "    lambda x, y: (text_vectorization(x), y),\n",
        "    num_parallel_calls=4\n",
        ")"
      ]
    },
    {
      "cell_type": "markdown",
      "source": [
        "### A sequence model built on one-hot encoded vector sequences"
      ],
      "metadata": {
        "id": "94H_iYQX9wwc"
      }
    },
    {
      "cell_type": "code",
      "execution_count": 5,
      "metadata": {
        "colab": {
          "base_uri": "https://localhost:8080/"
        },
        "id": "m92HfkpnLeXa",
        "outputId": "f573041e-4cd1-4ecb-a58d-68f37dedd67c"
      },
      "outputs": [
        {
          "output_type": "stream",
          "name": "stdout",
          "text": [
            "Model: \"model\"\n",
            "_________________________________________________________________\n",
            " Layer (type)                Output Shape              Param #   \n",
            "=================================================================\n",
            " input_1 (InputLayer)        [(None, None)]            0         \n",
            "                                                                 \n",
            " tf.one_hot (TFOpLambda)     (None, None, 20000)       0         \n",
            "                                                                 \n",
            " bidirectional (Bidirectiona  (None, 64)               5128448   \n",
            " l)                                                              \n",
            "                                                                 \n",
            " dropout (Dropout)           (None, 64)                0         \n",
            "                                                                 \n",
            " dense (Dense)               (None, 1)                 65        \n",
            "                                                                 \n",
            "=================================================================\n",
            "Total params: 5,128,513\n",
            "Trainable params: 5,128,513\n",
            "Non-trainable params: 0\n",
            "_________________________________________________________________\n"
          ]
        }
      ],
      "source": [
        "import tensorflow as tf\n",
        "inputs = keras.Input(shape=(None,), dtype=\"int64\")\n",
        "embedded = tf.one_hot(inputs, depth=max_tokens)\n",
        "x = layers.Bidirectional(layers.LSTM(32))(embedded)\n",
        "x = layers.Dropout(0.5)(x)\n",
        "ouputs = layers.Dense(1, activation=\"sigmoid\")(x)\n",
        "model = keras.Model(inputs, ouputs)\n",
        "model.compile(\n",
        "    optimizer=\"rmsprop\",\n",
        "    loss=\"binary_crossentropy\",\n",
        "    metrics=[\"accuracy\"]\n",
        ")\n",
        "model.summary()"
      ]
    },
    {
      "cell_type": "markdown",
      "source": [
        "### Training a first basic sequence model"
      ],
      "metadata": {
        "id": "ew6lVmm09327"
      }
    },
    {
      "cell_type": "code",
      "execution_count": 6,
      "metadata": {
        "colab": {
          "base_uri": "https://localhost:8080/"
        },
        "id": "_sqw2XcILedr",
        "outputId": "6a26177f-f402-4628-e831-b70676527ed5"
      },
      "outputs": [
        {
          "output_type": "stream",
          "name": "stdout",
          "text": [
            "Epoch 1/10\n",
            "625/625 [==============================] - 233s 360ms/step - loss: 0.5309 - accuracy: 0.7477 - val_loss: 0.3787 - val_accuracy: 0.8605\n",
            "Epoch 2/10\n",
            "625/625 [==============================] - 228s 365ms/step - loss: 0.3502 - accuracy: 0.8758 - val_loss: 0.2195 - val_accuracy: 0.9209\n",
            "Epoch 3/10\n",
            "625/625 [==============================] - 227s 364ms/step - loss: 0.2680 - accuracy: 0.9089 - val_loss: 0.1895 - val_accuracy: 0.9334\n",
            "Epoch 4/10\n",
            "625/625 [==============================] - 228s 365ms/step - loss: 0.2253 - accuracy: 0.9243 - val_loss: 0.1441 - val_accuracy: 0.9524\n",
            "Epoch 5/10\n",
            "625/625 [==============================] - 229s 367ms/step - loss: 0.1932 - accuracy: 0.9355 - val_loss: 0.1489 - val_accuracy: 0.9546\n",
            "Epoch 6/10\n",
            "625/625 [==============================] - 228s 364ms/step - loss: 0.1707 - accuracy: 0.9438 - val_loss: 0.1562 - val_accuracy: 0.9494\n",
            "Epoch 7/10\n",
            "625/625 [==============================] - 228s 365ms/step - loss: 0.1583 - accuracy: 0.9465 - val_loss: 0.0998 - val_accuracy: 0.9678\n",
            "Epoch 8/10\n",
            "625/625 [==============================] - 229s 366ms/step - loss: 0.1280 - accuracy: 0.9579 - val_loss: 0.0720 - val_accuracy: 0.9770\n",
            "Epoch 9/10\n",
            "625/625 [==============================] - 228s 365ms/step - loss: 0.1016 - accuracy: 0.9682 - val_loss: 0.0461 - val_accuracy: 0.9859\n",
            "Epoch 10/10\n",
            "625/625 [==============================] - 229s 366ms/step - loss: 0.0872 - accuracy: 0.9730 - val_loss: 0.0521 - val_accuracy: 0.9837\n",
            "625/625 [==============================] - 82s 130ms/step - loss: 0.0461 - accuracy: 0.9859\n",
            "Test acc: 0.986\n"
          ]
        }
      ],
      "source": [
        "callbacks = [\n",
        "    keras.callbacks.ModelCheckpoint(\"one_hot_bidir_lstm.keras\",\n",
        "    save_best_only=True)\n",
        "]\n",
        "model.fit(int_train_ds, validation_data=int_val_ds, \n",
        "          epochs=10, callbacks=callbacks)\n",
        "model = keras.models.load_model(\"one_hot_bidir_lstm.keras\")\n",
        "print(f\"Test acc: {model.evaluate(int_test_ds)[1]:.3f}\")"
      ]
    },
    {
      "cell_type": "markdown",
      "source": [
        "# Understanding words embeddings\n",
        "# Learning words embeddings with the Embedding layer"
      ],
      "metadata": {
        "id": "AE2QbA9d-Ayh"
      }
    },
    {
      "cell_type": "markdown",
      "source": [
        "### Installing an Embedding layer"
      ],
      "metadata": {
        "id": "Hm3TT3Qd-LIt"
      }
    },
    {
      "cell_type": "code",
      "execution_count": 7,
      "metadata": {
        "id": "rg7CH9OzT88V"
      },
      "outputs": [],
      "source": [
        "embedding_layer = layers.Embedding(input_dim=max_tokens, output_dim=256)\n"
      ]
    },
    {
      "cell_type": "markdown",
      "source": [
        "### Model that uses an Embedding layer trained from scratch"
      ],
      "metadata": {
        "id": "ztiyDG-V-P2h"
      }
    },
    {
      "cell_type": "code",
      "execution_count": 8,
      "metadata": {
        "colab": {
          "base_uri": "https://localhost:8080/"
        },
        "id": "oO7VQ7ShULyq",
        "outputId": "15924c08-5f3f-4f80-a06f-99fa5a945fc3"
      },
      "outputs": [
        {
          "output_type": "stream",
          "name": "stdout",
          "text": [
            "Model: \"model_1\"\n",
            "_________________________________________________________________\n",
            " Layer (type)                Output Shape              Param #   \n",
            "=================================================================\n",
            " input_2 (InputLayer)        [(None, None)]            0         \n",
            "                                                                 \n",
            " embedding_1 (Embedding)     (None, None, 256)         5120000   \n",
            "                                                                 \n",
            " bidirectional_1 (Bidirectio  (None, 64)               73984     \n",
            " nal)                                                            \n",
            "                                                                 \n",
            " dropout_1 (Dropout)         (None, 64)                0         \n",
            "                                                                 \n",
            " dense_1 (Dense)             (None, 1)                 65        \n",
            "                                                                 \n",
            "=================================================================\n",
            "Total params: 5,194,049\n",
            "Trainable params: 5,194,049\n",
            "Non-trainable params: 0\n",
            "_________________________________________________________________\n",
            "Epoch 1/10\n",
            "625/625 [==============================] - 43s 65ms/step - loss: 0.4753 - accuracy: 0.7903 - val_loss: 0.2837 - val_accuracy: 0.9008\n",
            "Epoch 2/10\n",
            "625/625 [==============================] - 40s 63ms/step - loss: 0.2990 - accuracy: 0.8917 - val_loss: 0.3204 - val_accuracy: 0.8638\n",
            "Epoch 3/10\n",
            "625/625 [==============================] - 43s 69ms/step - loss: 0.2385 - accuracy: 0.9164 - val_loss: 0.1460 - val_accuracy: 0.9516\n",
            "Epoch 4/10\n",
            "625/625 [==============================] - 40s 64ms/step - loss: 0.1967 - accuracy: 0.9319 - val_loss: 0.1559 - val_accuracy: 0.9435\n",
            "Epoch 5/10\n",
            "625/625 [==============================] - 42s 67ms/step - loss: 0.1621 - accuracy: 0.9457 - val_loss: 0.1004 - val_accuracy: 0.9661\n",
            "Epoch 6/10\n",
            "625/625 [==============================] - 41s 65ms/step - loss: 0.1341 - accuracy: 0.9553 - val_loss: 0.0954 - val_accuracy: 0.9670\n",
            "Epoch 7/10\n",
            "625/625 [==============================] - 39s 62ms/step - loss: 0.1171 - accuracy: 0.9621 - val_loss: 0.0674 - val_accuracy: 0.9797\n",
            "Epoch 8/10\n",
            "625/625 [==============================] - 40s 64ms/step - loss: 0.1005 - accuracy: 0.9683 - val_loss: 0.1028 - val_accuracy: 0.9650\n",
            "Epoch 9/10\n",
            "625/625 [==============================] - 40s 64ms/step - loss: 0.0825 - accuracy: 0.9726 - val_loss: 0.0434 - val_accuracy: 0.9873\n",
            "Epoch 10/10\n",
            "625/625 [==============================] - 42s 67ms/step - loss: 0.0680 - accuracy: 0.9790 - val_loss: 0.0520 - val_accuracy: 0.9825\n",
            "625/625 [==============================] - 19s 30ms/step - loss: 0.0434 - accuracy: 0.9873\n",
            "Test acc: 0.987\n"
          ]
        }
      ],
      "source": [
        "inputs = keras.Input(shape=(None,), dtype=\"int64\")\n",
        "embedded = layers.Embedding(input_dim=max_tokens, output_dim=256)(inputs)\n",
        "x = layers.Bidirectional(layers.LSTM(32))(embedded)\n",
        "x = layers.Dropout(0.5)(x)\n",
        "ouputs = layers.Dense(1, activation=\"sigmoid\")(x)\n",
        "model = keras.Model(inputs, ouputs)\n",
        "model.compile(\n",
        "    optimizer=\"rmsprop\",\n",
        "    loss=\"binary_crossentropy\",\n",
        "    metrics=[\"accuracy\"]\n",
        ")\n",
        "model.summary()\n",
        "callbacks = [\n",
        "    keras.callbacks.ModelCheckpoint(\"embeddings_bidir_gru.keras\",\n",
        "    save_best_only=True)\n",
        "]\n",
        "model.fit(int_train_ds, validation_data=int_val_ds, \n",
        "          epochs=10, callbacks=callbacks)\n",
        "model = keras.models.load_model(\"embeddings_bidir_gru.keras\")\n",
        "print(f\"Test acc: {model.evaluate(int_test_ds)[1]:.3f}\")"
      ]
    },
    {
      "cell_type": "markdown",
      "source": [
        "# Understanding padding and masking"
      ],
      "metadata": {
        "id": "qMqKdyjN-Ycx"
      }
    },
    {
      "cell_type": "markdown",
      "source": [
        "### Using an Embedding layer with masking enabled"
      ],
      "metadata": {
        "id": "DdfQFasr-odI"
      }
    },
    {
      "cell_type": "code",
      "execution_count": 9,
      "metadata": {
        "id": "t-bvaXR9UL1L",
        "colab": {
          "base_uri": "https://localhost:8080/"
        },
        "outputId": "86e1c797-28d8-4f6e-fc1f-83cade296e0b"
      },
      "outputs": [
        {
          "output_type": "stream",
          "name": "stdout",
          "text": [
            "Model: \"model_2\"\n",
            "_________________________________________________________________\n",
            " Layer (type)                Output Shape              Param #   \n",
            "=================================================================\n",
            " input_3 (InputLayer)        [(None, None)]            0         \n",
            "                                                                 \n",
            " embedding_2 (Embedding)     (None, None, 256)         5120000   \n",
            "                                                                 \n",
            " bidirectional_2 (Bidirectio  (None, 64)               73984     \n",
            " nal)                                                            \n",
            "                                                                 \n",
            " dropout_2 (Dropout)         (None, 64)                0         \n",
            "                                                                 \n",
            " dense_2 (Dense)             (None, 1)                 65        \n",
            "                                                                 \n",
            "=================================================================\n",
            "Total params: 5,194,049\n",
            "Trainable params: 5,194,049\n",
            "Non-trainable params: 0\n",
            "_________________________________________________________________\n",
            "Epoch 1/10\n",
            "625/625 [==============================] - 59s 83ms/step - loss: 0.3868 - accuracy: 0.8249 - val_loss: 0.1915 - val_accuracy: 0.9293\n",
            "Epoch 2/10\n",
            "625/625 [==============================] - 49s 79ms/step - loss: 0.2268 - accuracy: 0.9113 - val_loss: 0.1628 - val_accuracy: 0.9411\n",
            "Epoch 3/10\n",
            "625/625 [==============================] - 44s 70ms/step - loss: 0.1598 - accuracy: 0.9414 - val_loss: 0.0852 - val_accuracy: 0.9713\n",
            "Epoch 4/10\n",
            "625/625 [==============================] - 47s 76ms/step - loss: 0.1199 - accuracy: 0.9570 - val_loss: 0.0551 - val_accuracy: 0.9822\n",
            "Epoch 5/10\n",
            "625/625 [==============================] - 47s 75ms/step - loss: 0.0872 - accuracy: 0.9711 - val_loss: 0.0394 - val_accuracy: 0.9877\n",
            "Epoch 6/10\n",
            "625/625 [==============================] - 45s 71ms/step - loss: 0.0622 - accuracy: 0.9794 - val_loss: 0.0527 - val_accuracy: 0.9818\n",
            "Epoch 7/10\n",
            "625/625 [==============================] - 47s 76ms/step - loss: 0.0479 - accuracy: 0.9844 - val_loss: 0.0208 - val_accuracy: 0.9931\n",
            "Epoch 8/10\n",
            "625/625 [==============================] - 48s 76ms/step - loss: 0.0347 - accuracy: 0.9890 - val_loss: 0.0437 - val_accuracy: 0.9836\n",
            "Epoch 9/10\n",
            "625/625 [==============================] - 44s 71ms/step - loss: 0.0232 - accuracy: 0.9922 - val_loss: 0.0078 - val_accuracy: 0.9978\n",
            "Epoch 10/10\n",
            "625/625 [==============================] - 45s 71ms/step - loss: 0.0165 - accuracy: 0.9948 - val_loss: 0.0046 - val_accuracy: 0.9988\n",
            "625/625 [==============================] - 20s 29ms/step - loss: 0.0046 - accuracy: 0.9988\n",
            "Test acc: 0.999\n"
          ]
        }
      ],
      "source": [
        "inputs = keras.Input(shape=(None,), dtype=\"int64\")\n",
        "embedded = layers.Embedding(\n",
        "    input_dim=max_tokens, output_dim=256, mask_zero=True)(inputs)\n",
        "x = layers.Bidirectional(layers.LSTM(32))(embedded)\n",
        "x = layers.Dropout(0.5)(x)\n",
        "ouputs = layers.Dense(1, activation=\"sigmoid\")(x)\n",
        "model = keras.Model(inputs, ouputs)\n",
        "model.compile(\n",
        "    optimizer=\"rmsprop\",\n",
        "    loss=\"binary_crossentropy\",\n",
        "    metrics=[\"accuracy\"]\n",
        ")\n",
        "model.summary()\n",
        "callbacks = [\n",
        "    keras.callbacks.ModelCheckpoint(\"embeddings_bidir_gru_with_masking.keras\",\n",
        "    save_best_only=True)\n",
        "]\n",
        "model.fit(int_train_ds, validation_data=int_val_ds, \n",
        "          epochs=10, callbacks=callbacks)\n",
        "model = keras.models.load_model(\"embeddings_bidir_gru_with_masking.keras\")\n",
        "print(f\"Test acc: {model.evaluate(int_test_ds)[1]:.3f}\")"
      ]
    },
    {
      "cell_type": "markdown",
      "source": [
        "# Using pretrained word embeddings"
      ],
      "metadata": {
        "id": "msb0JYwL-x00"
      }
    },
    {
      "cell_type": "code",
      "execution_count": 14,
      "metadata": {
        "id": "UuVgNLCIUL3w",
        "colab": {
          "base_uri": "https://localhost:8080/"
        },
        "outputId": "58e988d4-e26b-4f06-862c-ce09744b8a05"
      },
      "outputs": [
        {
          "output_type": "stream",
          "name": "stdout",
          "text": [
            "--2022-12-05 17:44:59--  http://nlp.stanford.edu/data/glove.6B.zip\n",
            "Resolving nlp.stanford.edu (nlp.stanford.edu)... 171.64.67.140\n",
            "Connecting to nlp.stanford.edu (nlp.stanford.edu)|171.64.67.140|:80... connected.\n",
            "HTTP request sent, awaiting response... 302 Found\n",
            "Location: https://nlp.stanford.edu/data/glove.6B.zip [following]\n",
            "--2022-12-05 17:44:59--  https://nlp.stanford.edu/data/glove.6B.zip\n",
            "Connecting to nlp.stanford.edu (nlp.stanford.edu)|171.64.67.140|:443... connected.\n",
            "HTTP request sent, awaiting response... 301 Moved Permanently\n",
            "Location: https://downloads.cs.stanford.edu/nlp/data/glove.6B.zip [following]\n",
            "--2022-12-05 17:44:59--  https://downloads.cs.stanford.edu/nlp/data/glove.6B.zip\n",
            "Resolving downloads.cs.stanford.edu (downloads.cs.stanford.edu)... 171.64.64.22\n",
            "Connecting to downloads.cs.stanford.edu (downloads.cs.stanford.edu)|171.64.64.22|:443... connected.\n",
            "HTTP request sent, awaiting response... 200 OK\n",
            "Length: 862182613 (822M) [application/zip]\n",
            "Saving to: ‘glove.6B.zip.1’\n",
            "\n",
            "glove.6B.zip.1      100%[===================>] 822.24M  5.02MB/s    in 2m 39s  \n",
            "\n",
            "2022-12-05 17:47:38 (5.18 MB/s) - ‘glove.6B.zip.1’ saved [862182613/862182613]\n",
            "\n",
            "replace glove.6B.50d.txt? [y]es, [n]o, [A]ll, [N]one, [r]ename: A\n",
            "\n"
          ]
        }
      ],
      "source": [
        "!wget http://nlp.stanford.edu/data/glove.6B.zip\n",
        "!unzip -q glove.6B.zip"
      ]
    },
    {
      "cell_type": "markdown",
      "source": [
        "### Parsing the GloVe word-embeddings file"
      ],
      "metadata": {
        "id": "FrlDdgNcASky"
      }
    },
    {
      "cell_type": "code",
      "execution_count": 15,
      "metadata": {
        "id": "ny1XqR5bUL6X",
        "colab": {
          "base_uri": "https://localhost:8080/"
        },
        "outputId": "c99eb1c0-a1bc-435a-c868-7bd14699bcf5"
      },
      "outputs": [
        {
          "output_type": "stream",
          "name": "stdout",
          "text": [
            "Found 400000 word vectors.\n"
          ]
        }
      ],
      "source": [
        "import numpy as np\n",
        "path_to_glove_file = \"glove.6B.100d.txt\"\n",
        "\n",
        "embeddings_index = {}\n",
        "with open(path_to_glove_file) as f:\n",
        "  for line in f:\n",
        "    word, coefs = line.split(maxsplit=1)\n",
        "    coefs = np.fromstring(coefs, \"f\", sep=\" \")\n",
        "    embeddings_index[word] = coefs\n",
        "\n",
        "print(f\"Found {len(embeddings_index)} word vectors.\")"
      ]
    },
    {
      "cell_type": "markdown",
      "source": [
        "### Preparing the GloVe word-embeddings matrix"
      ],
      "metadata": {
        "id": "vj20SnDCAZ7C"
      }
    },
    {
      "cell_type": "code",
      "execution_count": 16,
      "metadata": {
        "id": "C33MViuAUL9G"
      },
      "outputs": [],
      "source": [
        "embedding_dim = 100\n",
        "\n",
        "vocabulary = text_vectorization.get_vocabulary()\n",
        "word_index = dict(zip(vocabulary, range(len(vocabulary))))\n",
        "\n",
        "embedding_matrix = np.zeros((max_tokens, embedding_dim))\n",
        "for word, i in word_index.items():\n",
        "  if i < max_tokens:\n",
        "    embedding_vector = embeddings_index.get(word)\n",
        "  if embedding_vector is not None:\n",
        "    embedding_matrix[i] = embedding_vector"
      ]
    },
    {
      "cell_type": "code",
      "source": [
        "embedding_layer = layers.Embedding(\n",
        "    max_tokens,\n",
        "    embedding_dim,\n",
        "    embeddings_initializer=keras.initializers.Constant(embedding_matrix),\n",
        "    trainable=False,\n",
        "    mask_zero=True,\n",
        ")"
      ],
      "metadata": {
        "id": "q4O1RfgpBLOP"
      },
      "execution_count": 17,
      "outputs": []
    }
  ],
  "metadata": {
    "accelerator": "GPU",
    "colab": {
      "provenance": [],
      "authorship_tag": "ABX9TyMw/H3t/gKdQsDStqwwGKZ1",
      "include_colab_link": true
    },
    "gpuClass": "standard",
    "kernelspec": {
      "display_name": "Python 3",
      "name": "python3"
    },
    "language_info": {
      "name": "python"
    }
  },
  "nbformat": 4,
  "nbformat_minor": 0
}