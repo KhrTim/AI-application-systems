{
  "nbformat": 4,
  "nbformat_minor": 0,
  "metadata": {
    "colab": {
      "provenance": [],
      "include_colab_link": true
    },
    "kernelspec": {
      "name": "python3",
      "display_name": "Python 3"
    },
    "language_info": {
      "name": "python"
    },
    "accelerator": "GPU"
  },
  "cells": [
    {
      "cell_type": "markdown",
      "metadata": {
        "id": "view-in-github",
        "colab_type": "text"
      },
      "source": [
        "<a href=\"https://colab.research.google.com/github/KhrTim/AI-application-systems/blob/main/Weekly_sessions/week6/week_6_2.ipynb\" target=\"_parent\"><img src=\"https://colab.research.google.com/assets/colab-badge.svg\" alt=\"Open In Colab\"/></a>"
      ]
    },
    {
      "cell_type": "markdown",
      "source": [
        "# Image Denoising using Neural Network"
      ],
      "metadata": {
        "id": "QrvEIo79GwFI"
      }
    },
    {
      "cell_type": "code",
      "source": [
        "!pip install tensorflow==1.15.5"
      ],
      "metadata": {
        "colab": {
          "base_uri": "https://localhost:8080/"
        },
        "id": "56nDGOT9xHAR",
        "outputId": "5302c1f3-931a-4408-98fa-74ef3956f5ba"
      },
      "execution_count": null,
      "outputs": [
        {
          "output_type": "stream",
          "name": "stdout",
          "text": [
            "Looking in indexes: https://pypi.org/simple, https://us-python.pkg.dev/colab-wheels/public/simple/\n",
            "Requirement already satisfied: tensorflow==1.15.5 in /usr/local/lib/python3.7/dist-packages (1.15.5)\n",
            "Requirement already satisfied: opt-einsum>=2.3.2 in /usr/local/lib/python3.7/dist-packages (from tensorflow==1.15.5) (3.3.0)\n",
            "Requirement already satisfied: gast==0.2.2 in /usr/local/lib/python3.7/dist-packages (from tensorflow==1.15.5) (0.2.2)\n",
            "Requirement already satisfied: keras-applications>=1.0.8 in /usr/local/lib/python3.7/dist-packages (from tensorflow==1.15.5) (1.0.8)\n",
            "Requirement already satisfied: keras-preprocessing>=1.0.5 in /usr/local/lib/python3.7/dist-packages (from tensorflow==1.15.5) (1.1.2)\n",
            "Requirement already satisfied: google-pasta>=0.1.6 in /usr/local/lib/python3.7/dist-packages (from tensorflow==1.15.5) (0.2.0)\n",
            "Requirement already satisfied: tensorboard<1.16.0,>=1.15.0 in /usr/local/lib/python3.7/dist-packages (from tensorflow==1.15.5) (1.15.0)\n",
            "Requirement already satisfied: grpcio>=1.8.6 in /usr/local/lib/python3.7/dist-packages (from tensorflow==1.15.5) (1.48.1)\n",
            "Requirement already satisfied: termcolor>=1.1.0 in /usr/local/lib/python3.7/dist-packages (from tensorflow==1.15.5) (1.1.0)\n",
            "Requirement already satisfied: wrapt>=1.11.1 in /usr/local/lib/python3.7/dist-packages (from tensorflow==1.15.5) (1.14.1)\n",
            "Requirement already satisfied: wheel>=0.26 in /usr/local/lib/python3.7/dist-packages (from tensorflow==1.15.5) (0.37.1)\n",
            "Requirement already satisfied: numpy<1.19.0,>=1.16.0 in /usr/local/lib/python3.7/dist-packages (from tensorflow==1.15.5) (1.18.5)\n",
            "Requirement already satisfied: astor>=0.6.0 in /usr/local/lib/python3.7/dist-packages (from tensorflow==1.15.5) (0.8.1)\n",
            "Requirement already satisfied: six>=1.10.0 in /usr/local/lib/python3.7/dist-packages (from tensorflow==1.15.5) (1.15.0)\n",
            "Requirement already satisfied: tensorflow-estimator==1.15.1 in /usr/local/lib/python3.7/dist-packages (from tensorflow==1.15.5) (1.15.1)\n",
            "Requirement already satisfied: protobuf>=3.6.1 in /usr/local/lib/python3.7/dist-packages (from tensorflow==1.15.5) (3.17.3)\n",
            "Requirement already satisfied: absl-py>=0.7.0 in /usr/local/lib/python3.7/dist-packages (from tensorflow==1.15.5) (1.2.0)\n",
            "Requirement already satisfied: h5py<=2.10.0 in /usr/local/lib/python3.7/dist-packages (from tensorflow==1.15.5) (2.10.0)\n",
            "Requirement already satisfied: werkzeug>=0.11.15 in /usr/local/lib/python3.7/dist-packages (from tensorboard<1.16.0,>=1.15.0->tensorflow==1.15.5) (1.0.1)\n",
            "Requirement already satisfied: setuptools>=41.0.0 in /usr/local/lib/python3.7/dist-packages (from tensorboard<1.16.0,>=1.15.0->tensorflow==1.15.5) (57.4.0)\n",
            "Requirement already satisfied: markdown>=2.6.8 in /usr/local/lib/python3.7/dist-packages (from tensorboard<1.16.0,>=1.15.0->tensorflow==1.15.5) (3.4.1)\n",
            "Requirement already satisfied: importlib-metadata>=4.4 in /usr/local/lib/python3.7/dist-packages (from markdown>=2.6.8->tensorboard<1.16.0,>=1.15.0->tensorflow==1.15.5) (4.12.0)\n",
            "Requirement already satisfied: zipp>=0.5 in /usr/local/lib/python3.7/dist-packages (from importlib-metadata>=4.4->markdown>=2.6.8->tensorboard<1.16.0,>=1.15.0->tensorflow==1.15.5) (3.8.1)\n",
            "Requirement already satisfied: typing-extensions>=3.6.4 in /usr/local/lib/python3.7/dist-packages (from importlib-metadata>=4.4->markdown>=2.6.8->tensorboard<1.16.0,>=1.15.0->tensorflow==1.15.5) (4.1.1)\n"
          ]
        }
      ]
    },
    {
      "cell_type": "code",
      "source": [
        "import os\n",
        "import numpy as np\n",
        "import zipfile\n",
        "from urllib import request\n",
        "import matplotlib.pyplot as plt\n",
        "import matplotlib.image as mpimg\n",
        "import random\n",
        "import tensorflow as tf\n",
        "import cv2"
      ],
      "metadata": {
        "id": "bHCap_e5xHUu"
      },
      "execution_count": null,
      "outputs": []
    },
    {
      "cell_type": "markdown",
      "source": [
        "Using the fasion MNIST dataset"
      ],
      "metadata": {
        "id": "9Fd18I9gG1BM"
      }
    },
    {
      "cell_type": "code",
      "source": [
        "img_database = np.loadtxt('fashionmnist/fashion-mnist_train.csv', delimiter=',', skiprows=1)[:,1:]\n",
        "\n",
        "print(img_database.shape)\n",
        "\n",
        "total_num_images = (img_database.shape[0])"
      ],
      "metadata": {
        "colab": {
          "base_uri": "https://localhost:8080/"
        },
        "id": "CnJWVKztxsWz",
        "outputId": "93dd3803-2ffa-4c15-9c8d-5fb00161185a"
      },
      "execution_count": null,
      "outputs": [
        {
          "output_type": "stream",
          "name": "stdout",
          "text": [
            "(60000, 784)\n"
          ]
        }
      ]
    },
    {
      "cell_type": "code",
      "source": [
        "n_input = 784 # Input image is of size 28 x 28 \n",
        "hidden_layer_1 = 256\n",
        "hidden_layer_2 = 32\n",
        "hidden_layer_3 = 32\n",
        "hidden_layer_4 = 256\n",
        "output_layer = 784 # Same as the n_input dimension\n",
        "\n",
        "# Parameters\n",
        "learning_rate = 0.1\n",
        "epochs = 100\n",
        "batch_size = 100\n",
        "\n",
        "# Define the placeholders\n",
        "X = tf.placeholder(tf.float32, [None, n_input])\n",
        "Y = tf.placeholder(tf.float32, [None, output_layer])"
      ],
      "metadata": {
        "id": "fhJY4b3cxsbo"
      },
      "execution_count": null,
      "outputs": []
    },
    {
      "cell_type": "markdown",
      "source": [
        "Weight and Bias definitions of Neural Network"
      ],
      "metadata": {
        "id": "B3YG5G4pHUlB"
      }
    },
    {
      "cell_type": "code",
      "source": [
        "Weight_NN = {\"W1\" : tf.Variable(tf.random_normal([n_input, hidden_layer_1])),\n",
        "             \"W2\" : tf.Variable(tf.random_normal([hidden_layer_1, hidden_layer_2])),\n",
        "             \"W3\" : tf.Variable(tf.random_normal([hidden_layer_2, hidden_layer_3])),\n",
        "             \"W4\" : tf.Variable(tf.random_normal([hidden_layer_3, hidden_layer_4])),\n",
        "             \"W5\" : tf.Variable(tf.random_normal([hidden_layer_4, output_layer]))\n",
        "}\n",
        "\n",
        "Bias_NN = {\"B1\" : tf.Variable(tf.random_normal([hidden_layer_1])),\n",
        "           \"B2\" : tf.Variable(tf.random_normal([hidden_layer_2])),\n",
        "           \"B3\" : tf.Variable(tf.random_normal([hidden_layer_3])),\n",
        "           \"B4\" : tf.Variable(tf.random_normal([hidden_layer_4])),\n",
        "           \"B5\" : tf.Variable(tf.random_normal([output_layer]))\n",
        "}"
      ],
      "metadata": {
        "id": "Z7iVpTPzxsd5"
      },
      "execution_count": null,
      "outputs": []
    },
    {
      "cell_type": "markdown",
      "source": [
        "Connecting the Neural Network"
      ],
      "metadata": {
        "id": "EQuYu7cBHb8i"
      }
    },
    {
      "cell_type": "code",
      "source": [
        "Z1 = tf.add(tf.matmul(X, Weight_NN[\"W1\"]), Bias_NN[\"B1\"])\n",
        "Z1_out = tf.nn.sigmoid(Z1)\n",
        "\n",
        "Z2 = tf.add(tf.matmul(Z1_out, Weight_NN[\"W2\"]), Bias_NN[\"B2\"])\n",
        "Z2_out = tf.nn.sigmoid(Z2)\n",
        "\n",
        "Z3 = tf.add(tf.matmul(Z2_out, Weight_NN[\"W3\"]), Bias_NN[\"B3\"])\n",
        "Z3_out = tf.nn.sigmoid(Z3)\n",
        "\n",
        "Z4 = tf.add(tf.matmul(Z3_out, Weight_NN[\"W4\"]), Bias_NN[\"B4\"])\n",
        "Z4_out = tf.nn.sigmoid(Z4)\n",
        "\n",
        "Z5 = tf.add(tf.matmul(Z4_out, Weight_NN[\"W5\"]), Bias_NN[\"B5\"])\n",
        "Z5_out = tf.nn.sigmoid(Z5)\n"
      ],
      "metadata": {
        "id": "o-ctBUZAxsgP"
      },
      "execution_count": null,
      "outputs": []
    },
    {
      "cell_type": "code",
      "source": [
        "Z1 = tf.layers.dense(X, hidden_layer_1, activation = tf.nn.sigmoid)\n",
        "Z2 = tf.layers.dense(Z1, hidden_layer_2, activation = tf.nn.sigmoid)\n",
        "Z3 = tf.layers.dense(Z1, hidden_layer_3, activation = tf.nn.sigmoid)\n",
        "Z4 = tf.layers.dense(Z1, hidden_layer_4, activation = tf.nn.sigmoid)\n",
        "NN_output = tf.layers.dense(Z4, output_layer)"
      ],
      "metadata": {
        "colab": {
          "base_uri": "https://localhost:8080/"
        },
        "id": "bGCktRX0xsix",
        "outputId": "02e18cf1-47a7-43f9-f16c-b7e62085a678"
      },
      "execution_count": null,
      "outputs": [
        {
          "output_type": "stream",
          "name": "stderr",
          "text": [
            "WARNING:tensorflow:From <ipython-input-9-0363ae5c8ae8>:1: dense (from tensorflow.python.layers.core) is deprecated and will be removed in a future version.\n",
            "Instructions for updating:\n",
            "Use keras.layers.Dense instead.\n",
            "WARNING:tensorflow:From /usr/local/lib/python3.7/dist-packages/tensorflow_core/python/layers/core.py:187: Layer.apply (from tensorflow.python.keras.engine.base_layer) is deprecated and will be removed in a future version.\n",
            "Instructions for updating:\n",
            "Please use `layer.__call__` method instead.\n"
          ]
        }
      ]
    },
    {
      "cell_type": "markdown",
      "source": [
        "Dataset preparation"
      ],
      "metadata": {
        "id": "B1Rn_XSiHpTt"
      }
    },
    {
      "cell_type": "code",
      "source": [
        "\n",
        "# Shiffle the dataset\n",
        "np.random.shuffle(img_database)\n",
        "\n",
        "X_train = img_database\n",
        "\n",
        "# Normalzie the dataset\n",
        "X_train = X_train\n",
        "\n",
        "# Create a noisy dataset\n",
        "X_train_noisy = X_train + 10*np.random.normal(0,1,size=X_train.shape)\n",
        "\n",
        "# Original image\n",
        "plt.imshow(X_train[0].reshape(28,28), cmap='gray')\n",
        "plt.show()\n",
        "\n",
        "# Noisy image\n",
        "plt.imshow(X_train_noisy[0].reshape(28,28), cmap='gray')\n",
        "plt.show()"
      ],
      "metadata": {
        "colab": {
          "base_uri": "https://localhost:8080/",
          "height": 513
        },
        "id": "9ZideVs_xsll",
        "outputId": "def105c7-6c5b-45c4-978d-b0fb7c37357d"
      },
      "execution_count": null,
      "outputs": [
        {
          "output_type": "display_data",
          "data": {
            "text/plain": [
              "<Figure size 432x288 with 1 Axes>"
            ],
            "image/png": "[encoded data removed]"
          },
          "metadata": {
            "needs_background": "light"
          }
        },
        {
          "output_type": "display_data",
          "data": {
            "text/plain": [
              "<Figure size 432x288 with 1 Axes>"
            ],
            "image/png": "[encoded data removed]"
          },
          "metadata": {
            "needs_background": "light"
          }
        }
      ]
    },
    {
      "cell_type": "code",
      "source": [
        "# Define the metrics\n",
        "\n",
        "# The loss funciton\n",
        "computed_loss = tf.reduce_mean(tf.square(NN_output-Y))\n",
        "\n",
        "# Define the optimizer\n",
        "optimizer = tf.train.AdagradOptimizer(learning_rate).minimize(computed_loss)\n",
        "\n",
        "# Initialize the variables\n",
        "init = tf.global_variables_initializer()"
      ],
      "metadata": {
        "colab": {
          "base_uri": "https://localhost:8080/"
        },
        "id": "GLhpegGkxsoZ",
        "outputId": "87964f4f-dd07-4ba1-975f-291b32b6f8cf"
      },
      "execution_count": null,
      "outputs": [
        {
          "output_type": "stream",
          "name": "stderr",
          "text": [
            "WARNING:tensorflow:From /usr/local/lib/python3.7/dist-packages/tensorflow_core/python/training/adagrad.py:76: calling Constant.__init__ (from tensorflow.python.ops.init_ops) with dtype is deprecated and will be removed in a future version.\n",
            "Instructions for updating:\n",
            "Call initializer instance with the dtype argument instead of passing it to the constructor\n"
          ]
        }
      ]
    },
    {
      "cell_type": "code",
      "source": [
        "# Initialize the session\n",
        "\n",
        "sess = tf.Session()\n",
        "sess.run(init)\n",
        "\n",
        "for epoch in range(epochs):\n",
        "  for i in range(int(total_num_images/batch_size)):\n",
        "    X_epoch = X_train[ i*batch_size : (i+1)*batch_size ]\n",
        "    X_noise_epoch = X_train_noisy[ i*batch_size : (i+1)*batch_size ]\n",
        "    _, loss = sess.run([optimizer, computed_loss], feed_dict = {X:X_noise_epoch, Y: X_epoch})\n",
        "  print('Epoch', epoch, '/', epochs, 'loss', loss)\n",
        "\n",
        "# Pick any image\n",
        "X_actual = X_train[:10]\n",
        "noisy_image = X_train_noisy[:10]\n",
        "\n",
        "# Run it through the autoencoder\n",
        "denoised_image = sess.run(NN_output, feed_dict = {X:noisy_image})"
      ],
      "metadata": {
        "colab": {
          "base_uri": "https://localhost:8080/"
        },
        "id": "6bSDlqXN4Xr5",
        "outputId": "d9a7ef27-768f-4e4d-d889-cc2c17eb6d37"
      },
      "execution_count": null,
      "outputs": [
        {
          "output_type": "stream",
          "name": "stdout",
          "text": [
            "Epoch 0 / 100 loss 4972.8516\n",
            "Epoch 1 / 100 loss 4488.7075\n",
            "Epoch 2 / 100 loss 4314.2227\n",
            "Epoch 3 / 100 loss 4148.1753\n",
            "Epoch 4 / 100 loss 4002.2473\n",
            "Epoch 5 / 100 loss 3995.014\n",
            "Epoch 6 / 100 loss 3964.2605\n",
            "Epoch 7 / 100 loss 3934.5923\n",
            "Epoch 8 / 100 loss 3876.1013\n",
            "Epoch 9 / 100 loss 3882.8298\n",
            "Epoch 10 / 100 loss 3869.5327\n",
            "Epoch 11 / 100 loss 3912.3215\n",
            "Epoch 12 / 100 loss 3856.9673\n",
            "Epoch 13 / 100 loss 3837.9421\n",
            "Epoch 14 / 100 loss 3877.7053\n",
            "Epoch 15 / 100 loss 3873.09\n",
            "Epoch 16 / 100 loss 3829.885\n",
            "Epoch 17 / 100 loss 3803.1348\n",
            "Epoch 18 / 100 loss 3791.5889\n",
            "Epoch 19 / 100 loss 3759.4817\n",
            "Epoch 20 / 100 loss 3753.653\n",
            "Epoch 21 / 100 loss 3740.7935\n",
            "Epoch 22 / 100 loss 3720.2188\n",
            "Epoch 23 / 100 loss 3695.8513\n",
            "Epoch 24 / 100 loss 3689.7107\n",
            "Epoch 25 / 100 loss 3722.5535\n",
            "Epoch 26 / 100 loss 3710.4873\n",
            "Epoch 27 / 100 loss 3717.0103\n",
            "Epoch 28 / 100 loss 3674.3167\n",
            "Epoch 29 / 100 loss 3628.8997\n",
            "Epoch 30 / 100 loss 3654.5625\n",
            "Epoch 31 / 100 loss 3625.7217\n",
            "Epoch 32 / 100 loss 3621.483\n",
            "Epoch 33 / 100 loss 3597.2314\n",
            "Epoch 34 / 100 loss 3584.662\n",
            "Epoch 35 / 100 loss 3608.3787\n",
            "Epoch 36 / 100 loss 3655.533\n",
            "Epoch 37 / 100 loss 3643.0317\n",
            "Epoch 38 / 100 loss 3569.4604\n",
            "Epoch 39 / 100 loss 3536.0571\n",
            "Epoch 40 / 100 loss 3452.0269\n",
            "Epoch 41 / 100 loss 3502.605\n",
            "Epoch 42 / 100 loss 3496.7654\n",
            "Epoch 43 / 100 loss 3474.025\n",
            "Epoch 44 / 100 loss 3410.3997\n",
            "Epoch 45 / 100 loss 3430.5454\n",
            "Epoch 46 / 100 loss 3460.1487\n",
            "Epoch 47 / 100 loss 3401.953\n",
            "Epoch 48 / 100 loss 3430.1829\n",
            "Epoch 49 / 100 loss 3437.8103\n",
            "Epoch 50 / 100 loss 3445.6975\n",
            "Epoch 51 / 100 loss 3381.1802\n",
            "Epoch 52 / 100 loss 3384.426\n",
            "Epoch 53 / 100 loss 3397.5137\n",
            "Epoch 54 / 100 loss 3462.1519\n",
            "Epoch 55 / 100 loss 3427.9946\n",
            "Epoch 56 / 100 loss 3357.2224\n",
            "Epoch 57 / 100 loss 3415.8938\n",
            "Epoch 58 / 100 loss 3360.052\n",
            "Epoch 59 / 100 loss 3314.7283\n",
            "Epoch 60 / 100 loss 3388.6453\n",
            "Epoch 61 / 100 loss 3346.9707\n",
            "Epoch 62 / 100 loss 3380.3684\n",
            "Epoch 63 / 100 loss 3403.4648\n",
            "Epoch 64 / 100 loss 3367.8008\n",
            "Epoch 65 / 100 loss 3354.4373\n",
            "Epoch 66 / 100 loss 3384.051\n",
            "Epoch 67 / 100 loss 3370.8328\n",
            "Epoch 68 / 100 loss 3385.2358\n",
            "Epoch 69 / 100 loss 3354.1755\n",
            "Epoch 70 / 100 loss 3377.5723\n",
            "Epoch 71 / 100 loss 3331.9683\n",
            "Epoch 72 / 100 loss 3288.9487\n",
            "Epoch 73 / 100 loss 3256.8293\n",
            "Epoch 74 / 100 loss 3261.6125\n",
            "Epoch 75 / 100 loss 3221.52\n",
            "Epoch 76 / 100 loss 3248.9124\n",
            "Epoch 77 / 100 loss 3222.2231\n",
            "Epoch 78 / 100 loss 3151.0889\n",
            "Epoch 79 / 100 loss 3140.6055\n",
            "Epoch 80 / 100 loss 3138.6714\n",
            "Epoch 81 / 100 loss 3138.371\n",
            "Epoch 82 / 100 loss 3100.9001\n",
            "Epoch 83 / 100 loss 3101.8518\n",
            "Epoch 84 / 100 loss 3059.701\n",
            "Epoch 85 / 100 loss 3046.869\n",
            "Epoch 86 / 100 loss 3071.9863\n",
            "Epoch 87 / 100 loss 3064.293\n",
            "Epoch 88 / 100 loss 3051.8276\n",
            "Epoch 89 / 100 loss 3111.4792\n",
            "Epoch 90 / 100 loss 2999.69\n",
            "Epoch 91 / 100 loss 3059.0103\n",
            "Epoch 92 / 100 loss 3065.2224\n",
            "Epoch 93 / 100 loss 3049.84\n",
            "Epoch 94 / 100 loss 3046.599\n",
            "Epoch 95 / 100 loss 3032.8481\n",
            "Epoch 96 / 100 loss 3056.227\n",
            "Epoch 97 / 100 loss 3039.4465\n",
            "Epoch 98 / 100 loss 3021.0876\n",
            "Epoch 99 / 100 loss 3016.6646\n"
          ]
        }
      ]
    }
  ]
}