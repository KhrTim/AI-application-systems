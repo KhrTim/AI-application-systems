{
  "nbformat": 4,
  "nbformat_minor": 0,
  "metadata": {
    "colab": {
      "provenance": [],
      "include_colab_link": true
    },
    "kernelspec": {
      "name": "python3",
      "display_name": "Python 3"
    },
    "language_info": {
      "name": "python"
    },
    "accelerator": "GPU"
  },
  "cells": [
    {
      "cell_type": "markdown",
      "metadata": {
        "id": "view-in-github",
        "colab_type": "text"
      },
      "source": [
        "<a href=\"https://colab.research.google.com/github/KhrTim/AI-application-systems/blob/main/Weekly_sessions/week6/week_6_2.ipynb\" target=\"_parent\"><img src=\"https://colab.research.google.com/assets/colab-badge.svg\" alt=\"Open In Colab\"/></a>"
      ]
    },
    {
      "cell_type": "markdown",
      "source": [
        "# Image Denoising using Neural Network"
      ],
      "metadata": {
        "id": "QrvEIo79GwFI"
      }
    },
    {
      "cell_type": "code",
      "source": [
        "!pip install tensorflow==1.15.5"
      ],
      "metadata": {
        "colab": {
          "base_uri": "https://localhost:8080/",
          "height": 1000
        },
        "id": "56nDGOT9xHAR",
        "outputId": "6f1e55d8-fce8-4115-b040-95cc95b7d1c5"
      },
      "execution_count": 5,
      "outputs": [
        {
          "output_type": "stream",
          "name": "stdout",
          "text": [
            "Looking in indexes: https://pypi.org/simple, https://us-python.pkg.dev/colab-wheels/public/simple/\n",
            "Collecting tensorflow==1.15.5\n",
            "  Downloading tensorflow-1.15.5-cp37-cp37m-manylinux2010_x86_64.whl (110.5 MB)\n",
            "\u001b[K     |████████████████████████████████| 110.5 MB 1.5 kB/s \n",
            "\u001b[?25hRequirement already satisfied: termcolor>=1.1.0 in /usr/local/lib/python3.7/dist-packages (from tensorflow==1.15.5) (2.0.1)\n",
            "Collecting tensorflow-estimator==1.15.1\n",
            "  Downloading tensorflow_estimator-1.15.1-py2.py3-none-any.whl (503 kB)\n",
            "\u001b[K     |████████████████████████████████| 503 kB 71.4 MB/s \n",
            "\u001b[?25hRequirement already satisfied: google-pasta>=0.1.6 in /usr/local/lib/python3.7/dist-packages (from tensorflow==1.15.5) (0.2.0)\n",
            "Collecting keras-applications>=1.0.8\n",
            "  Downloading Keras_Applications-1.0.8-py3-none-any.whl (50 kB)\n",
            "\u001b[K     |████████████████████████████████| 50 kB 5.7 MB/s \n",
            "\u001b[?25hRequirement already satisfied: wheel>=0.26 in /usr/local/lib/python3.7/dist-packages (from tensorflow==1.15.5) (0.37.1)\n",
            "Collecting numpy<1.19.0,>=1.16.0\n",
            "  Downloading numpy-1.18.5-cp37-cp37m-manylinux1_x86_64.whl (20.1 MB)\n",
            "\u001b[K     |████████████████████████████████| 20.1 MB 1.2 MB/s \n",
            "\u001b[?25hRequirement already satisfied: absl-py>=0.7.0 in /usr/local/lib/python3.7/dist-packages (from tensorflow==1.15.5) (1.3.0)\n",
            "Requirement already satisfied: opt-einsum>=2.3.2 in /usr/local/lib/python3.7/dist-packages (from tensorflow==1.15.5) (3.3.0)\n",
            "Collecting h5py<=2.10.0\n",
            "  Downloading h5py-2.10.0-cp37-cp37m-manylinux1_x86_64.whl (2.9 MB)\n",
            "\u001b[K     |████████████████████████████████| 2.9 MB 47.0 MB/s \n",
            "\u001b[?25hRequirement already satisfied: grpcio>=1.8.6 in /usr/local/lib/python3.7/dist-packages (from tensorflow==1.15.5) (1.49.1)\n",
            "Requirement already satisfied: six>=1.10.0 in /usr/local/lib/python3.7/dist-packages (from tensorflow==1.15.5) (1.15.0)\n",
            "Requirement already satisfied: protobuf>=3.6.1 in /usr/local/lib/python3.7/dist-packages (from tensorflow==1.15.5) (3.17.3)\n",
            "Collecting gast==0.2.2\n",
            "  Downloading gast-0.2.2.tar.gz (10 kB)\n",
            "Requirement already satisfied: wrapt>=1.11.1 in /usr/local/lib/python3.7/dist-packages (from tensorflow==1.15.5) (1.14.1)\n",
            "Requirement already satisfied: astor>=0.6.0 in /usr/local/lib/python3.7/dist-packages (from tensorflow==1.15.5) (0.8.1)\n",
            "Collecting tensorboard<1.16.0,>=1.15.0\n",
            "  Downloading tensorboard-1.15.0-py3-none-any.whl (3.8 MB)\n",
            "\u001b[K     |████████████████████████████████| 3.8 MB 45.2 MB/s \n",
            "\u001b[?25hRequirement already satisfied: keras-preprocessing>=1.0.5 in /usr/local/lib/python3.7/dist-packages (from tensorflow==1.15.5) (1.1.2)\n",
            "Requirement already satisfied: werkzeug>=0.11.15 in /usr/local/lib/python3.7/dist-packages (from tensorboard<1.16.0,>=1.15.0->tensorflow==1.15.5) (1.0.1)\n",
            "Requirement already satisfied: markdown>=2.6.8 in /usr/local/lib/python3.7/dist-packages (from tensorboard<1.16.0,>=1.15.0->tensorflow==1.15.5) (3.4.1)\n",
            "Requirement already satisfied: setuptools>=41.0.0 in /usr/local/lib/python3.7/dist-packages (from tensorboard<1.16.0,>=1.15.0->tensorflow==1.15.5) (57.4.0)\n",
            "Requirement already satisfied: importlib-metadata>=4.4 in /usr/local/lib/python3.7/dist-packages (from markdown>=2.6.8->tensorboard<1.16.0,>=1.15.0->tensorflow==1.15.5) (4.13.0)\n",
            "Requirement already satisfied: zipp>=0.5 in /usr/local/lib/python3.7/dist-packages (from importlib-metadata>=4.4->markdown>=2.6.8->tensorboard<1.16.0,>=1.15.0->tensorflow==1.15.5) (3.9.0)\n",
            "Requirement already satisfied: typing-extensions>=3.6.4 in /usr/local/lib/python3.7/dist-packages (from importlib-metadata>=4.4->markdown>=2.6.8->tensorboard<1.16.0,>=1.15.0->tensorflow==1.15.5) (4.1.1)\n",
            "Building wheels for collected packages: gast\n",
            "  Building wheel for gast (setup.py) ... \u001b[?25l\u001b[?25hdone\n",
            "  Created wheel for gast: filename=gast-0.2.2-py3-none-any.whl size=7554 sha256=2d2c8e785e84b353679b1519cb563913322882e6743395c3c7397c637a861474\n",
            "  Stored in directory: /root/.cache/pip/wheels/21/7f/02/420f32a803f7d0967b48dd823da3f558c5166991bfd204eef3\n",
            "Successfully built gast\n",
            "Installing collected packages: numpy, h5py, tensorflow-estimator, tensorboard, keras-applications, gast, tensorflow\n",
            "  Attempting uninstall: numpy\n",
            "    Found existing installation: numpy 1.21.6\n",
            "    Uninstalling numpy-1.21.6:\n",
            "      Successfully uninstalled numpy-1.21.6\n",
            "  Attempting uninstall: h5py\n",
            "    Found existing installation: h5py 3.1.0\n",
            "    Uninstalling h5py-3.1.0:\n",
            "      Successfully uninstalled h5py-3.1.0\n",
            "  Attempting uninstall: tensorflow-estimator\n",
            "    Found existing installation: tensorflow-estimator 2.9.0\n",
            "    Uninstalling tensorflow-estimator-2.9.0:\n",
            "      Successfully uninstalled tensorflow-estimator-2.9.0\n",
            "  Attempting uninstall: tensorboard\n",
            "    Found existing installation: tensorboard 2.9.1\n",
            "    Uninstalling tensorboard-2.9.1:\n",
            "      Successfully uninstalled tensorboard-2.9.1\n",
            "  Attempting uninstall: gast\n",
            "    Found existing installation: gast 0.4.0\n",
            "    Uninstalling gast-0.4.0:\n",
            "      Successfully uninstalled gast-0.4.0\n",
            "  Attempting uninstall: tensorflow\n",
            "    Found existing installation: tensorflow 2.9.2\n",
            "    Uninstalling tensorflow-2.9.2:\n",
            "      Successfully uninstalled tensorflow-2.9.2\n",
            "\u001b[31mERROR: pip's dependency resolver does not currently take into account all the packages that are installed. This behaviour is the source of the following dependency conflicts.\n",
            "xarray-einstats 0.2.2 requires numpy>=1.21, but you have numpy 1.18.5 which is incompatible.\n",
            "tensorflow-probability 0.16.0 requires gast>=0.3.2, but you have gast 0.2.2 which is incompatible.\n",
            "tables 3.7.0 requires numpy>=1.19.0, but you have numpy 1.18.5 which is incompatible.\n",
            "plotnine 0.8.0 requires numpy>=1.19.0, but you have numpy 1.18.5 which is incompatible.\n",
            "kapre 0.3.7 requires tensorflow>=2.0.0, but you have tensorflow 1.15.5 which is incompatible.\n",
            "jaxlib 0.3.22+cuda11.cudnn805 requires numpy>=1.20, but you have numpy 1.18.5 which is incompatible.\n",
            "jax 0.3.23 requires numpy>=1.20, but you have numpy 1.18.5 which is incompatible.\n",
            "cupy-cuda11x 11.0.0 requires numpy<1.26,>=1.20, but you have numpy 1.18.5 which is incompatible.\n",
            "cmdstanpy 1.0.7 requires numpy>=1.21, but you have numpy 1.18.5 which is incompatible.\u001b[0m\n",
            "Successfully installed gast-0.2.2 h5py-2.10.0 keras-applications-1.0.8 numpy-1.18.5 tensorboard-1.15.0 tensorflow-1.15.5 tensorflow-estimator-1.15.1\n"
          ]
        },
        {
          "output_type": "display_data",
          "data": {
            "application/vnd.colab-display-data+json": {
              "pip_warning": {
                "packages": [
                  "gast",
                  "h5py",
                  "numpy",
                  "tensorboard",
                  "tensorflow"
                ]
              }
            }
          },
          "metadata": {}
        }
      ]
    },
    {
      "cell_type": "code",
      "source": [
        "import os\n",
        "import numpy as np\n",
        "import zipfile\n",
        "from urllib import request\n",
        "import matplotlib.pyplot as plt\n",
        "import matplotlib.image as mpimg\n",
        "import random\n",
        "import tensorflow as tf\n",
        "import cv2"
      ],
      "metadata": {
        "id": "bHCap_e5xHUu"
      },
      "execution_count": 1,
      "outputs": []
    },
    {
      "cell_type": "markdown",
      "source": [
        "Using the fasion MNIST dataset"
      ],
      "metadata": {
        "id": "9Fd18I9gG1BM"
      }
    },
    {
      "cell_type": "code",
      "source": [
        "img_database = np.loadtxt('fashion-mnist_train.csv', delimiter=',', skiprows=1)[:,1:]\n",
        "\n",
        "print(img_database.shape)\n",
        "\n",
        "total_num_images = (img_database.shape[0])"
      ],
      "metadata": {
        "colab": {
          "base_uri": "https://localhost:8080/"
        },
        "id": "CnJWVKztxsWz",
        "outputId": "5cc188d9-47de-4e84-d62e-3ecce53911b6"
      },
      "execution_count": 2,
      "outputs": [
        {
          "output_type": "stream",
          "name": "stdout",
          "text": [
            "(60000, 784)\n"
          ]
        }
      ]
    },
    {
      "cell_type": "code",
      "source": [
        "n_input = 784 # Input image is of size 28 x 28 \n",
        "hidden_layer_1 = 256\n",
        "hidden_layer_2 = 32\n",
        "hidden_layer_3 = 32\n",
        "hidden_layer_4 = 256\n",
        "output_layer = 784 # Same as the n_input dimension\n",
        "\n",
        "# Parameters\n",
        "learning_rate = 0.1\n",
        "epochs = 100\n",
        "batch_size = 100\n",
        "\n",
        "# Define the placeholders\n",
        "X = tf.placeholder(tf.float32, [None, n_input])\n",
        "Y = tf.placeholder(tf.float32, [None, output_layer])"
      ],
      "metadata": {
        "id": "fhJY4b3cxsbo"
      },
      "execution_count": 3,
      "outputs": []
    },
    {
      "cell_type": "markdown",
      "source": [
        "Weight and Bias definitions of Neural Network"
      ],
      "metadata": {
        "id": "B3YG5G4pHUlB"
      }
    },
    {
      "cell_type": "code",
      "source": [
        "Weight_NN = {\"W1\" : tf.Variable(tf.random_normal([n_input, hidden_layer_1])),\n",
        "             \"W2\" : tf.Variable(tf.random_normal([hidden_layer_1, hidden_layer_2])),\n",
        "             \"W3\" : tf.Variable(tf.random_normal([hidden_layer_2, hidden_layer_3])),\n",
        "             \"W4\" : tf.Variable(tf.random_normal([hidden_layer_3, hidden_layer_4])),\n",
        "             \"W5\" : tf.Variable(tf.random_normal([hidden_layer_4, output_layer]))\n",
        "}\n",
        "\n",
        "Bias_NN = {\"B1\" : tf.Variable(tf.random_normal([hidden_layer_1])),\n",
        "           \"B2\" : tf.Variable(tf.random_normal([hidden_layer_2])),\n",
        "           \"B3\" : tf.Variable(tf.random_normal([hidden_layer_3])),\n",
        "           \"B4\" : tf.Variable(tf.random_normal([hidden_layer_4])),\n",
        "           \"B5\" : tf.Variable(tf.random_normal([output_layer]))\n",
        "}"
      ],
      "metadata": {
        "id": "Z7iVpTPzxsd5"
      },
      "execution_count": 4,
      "outputs": []
    },
    {
      "cell_type": "markdown",
      "source": [
        "Connecting the Neural Network"
      ],
      "metadata": {
        "id": "EQuYu7cBHb8i"
      }
    },
    {
      "cell_type": "code",
      "source": [
        "Z1 = tf.add(tf.matmul(X, Weight_NN[\"W1\"]), Bias_NN[\"B1\"])\n",
        "Z1_out = tf.nn.sigmoid(Z1)\n",
        "\n",
        "Z2 = tf.add(tf.matmul(Z1_out, Weight_NN[\"W2\"]), Bias_NN[\"B2\"])\n",
        "Z2_out = tf.nn.sigmoid(Z2)\n",
        "\n",
        "Z3 = tf.add(tf.matmul(Z2_out, Weight_NN[\"W3\"]), Bias_NN[\"B3\"])\n",
        "Z3_out = tf.nn.sigmoid(Z3)\n",
        "\n",
        "Z4 = tf.add(tf.matmul(Z3_out, Weight_NN[\"W4\"]), Bias_NN[\"B4\"])\n",
        "Z4_out = tf.nn.sigmoid(Z4)\n",
        "\n",
        "Z5 = tf.add(tf.matmul(Z4_out, Weight_NN[\"W5\"]), Bias_NN[\"B5\"])\n",
        "Z5_out = tf.nn.sigmoid(Z5)\n"
      ],
      "metadata": {
        "id": "o-ctBUZAxsgP"
      },
      "execution_count": 5,
      "outputs": []
    },
    {
      "cell_type": "code",
      "source": [
        "Z1 = tf.layers.dense(X, hidden_layer_1, activation = tf.nn.sigmoid)\n",
        "Z2 = tf.layers.dense(Z1, hidden_layer_2, activation = tf.nn.sigmoid)\n",
        "Z3 = tf.layers.dense(Z1, hidden_layer_3, activation = tf.nn.sigmoid)\n",
        "Z4 = tf.layers.dense(Z1, hidden_layer_4, activation = tf.nn.sigmoid)\n",
        "NN_output = tf.layers.dense(Z4, output_layer)"
      ],
      "metadata": {
        "colab": {
          "base_uri": "https://localhost:8080/"
        },
        "id": "bGCktRX0xsix",
        "outputId": "2880d71b-f4b4-408c-bc28-61b58e48a0f1"
      },
      "execution_count": 6,
      "outputs": [
        {
          "output_type": "stream",
          "name": "stderr",
          "text": [
            "WARNING:tensorflow:From <ipython-input-6-0363ae5c8ae8>:1: dense (from tensorflow.python.layers.core) is deprecated and will be removed in a future version.\n",
            "Instructions for updating:\n",
            "Use keras.layers.Dense instead.\n",
            "WARNING:tensorflow:From /usr/local/lib/python3.7/dist-packages/tensorflow_core/python/layers/core.py:187: Layer.apply (from tensorflow.python.keras.engine.base_layer) is deprecated and will be removed in a future version.\n",
            "Instructions for updating:\n",
            "Please use `layer.__call__` method instead.\n"
          ]
        }
      ]
    },
    {
      "cell_type": "markdown",
      "source": [
        "Dataset preparation"
      ],
      "metadata": {
        "id": "B1Rn_XSiHpTt"
      }
    },
    {
      "cell_type": "code",
      "source": [
        "\n",
        "# Shiffle the dataset\n",
        "np.random.shuffle(img_database)\n",
        "\n",
        "X_train = img_database\n",
        "\n",
        "# Normalzie the dataset\n",
        "X_train = X_train\n",
        "\n",
        "# Create a noisy dataset\n",
        "X_train_noisy = X_train + 10*np.random.normal(0,1,size=X_train.shape)\n",
        "\n",
        "# Original image\n",
        "plt.imshow(X_train[0].reshape(28,28), cmap='gray')\n",
        "plt.show()\n",
        "\n",
        "# Noisy image\n",
        "plt.imshow(X_train_noisy[0].reshape(28,28), cmap='gray')\n",
        "plt.show()"
      ],
      "metadata": {
        "colab": {
          "base_uri": "https://localhost:8080/",
          "height": 513
        },
        "id": "9ZideVs_xsll",
        "outputId": "047c88f4-fc28-4752-c036-34400b18cd53"
      },
      "execution_count": 11,
      "outputs": [
        {
          "output_type": "display_data",
          "data": {
            "text/plain": [
              "<Figure size 432x288 with 1 Axes>"
            ],
            "image/png": "[encoded data removed]"
          },
          "metadata": {
            "needs_background": "light"
          }
        },
        {
          "output_type": "display_data",
          "data": {
            "text/plain": [
              "<Figure size 432x288 with 1 Axes>"
            ],
            "image/png": "[encoded data removed]"
          },
          "metadata": {
            "needs_background": "light"
          }
        }
      ]
    },
    {
      "cell_type": "code",
      "source": [
        "# Define the metrics\n",
        "\n",
        "# The loss funciton\n",
        "computed_loss = tf.reduce_mean(tf.square(NN_output-Y))\n",
        "\n",
        "# Define the optimizer\n",
        "optimizer = tf.train.AdagradOptimizer(learning_rate).minimize(computed_loss)\n",
        "\n",
        "# Initialize the variables\n",
        "init = tf.global_variables_initializer()"
      ],
      "metadata": {
        "colab": {
          "base_uri": "https://localhost:8080/"
        },
        "id": "GLhpegGkxsoZ",
        "outputId": "a021fa2b-d475-439f-9432-8308d58a1225"
      },
      "execution_count": 12,
      "outputs": [
        {
          "output_type": "stream",
          "name": "stderr",
          "text": [
            "WARNING:tensorflow:From /usr/local/lib/python3.7/dist-packages/tensorflow_core/python/training/adagrad.py:76: calling Constant.__init__ (from tensorflow.python.ops.init_ops) with dtype is deprecated and will be removed in a future version.\n",
            "Instructions for updating:\n",
            "Call initializer instance with the dtype argument instead of passing it to the constructor\n"
          ]
        }
      ]
    },
    {
      "cell_type": "code",
      "source": [
        "# Initialize the session\n",
        "\n",
        "sess = tf.Session()\n",
        "sess.run(init)\n",
        "\n",
        "for epoch in range(epochs):\n",
        "  for i in range(int(total_num_images/batch_size)):\n",
        "    X_epoch = X_train[ i*batch_size : (i+1)*batch_size ]\n",
        "    X_noise_epoch = X_train_noisy[ i*batch_size : (i+1)*batch_size ]\n",
        "    _, loss = sess.run([optimizer, computed_loss], feed_dict = {X:X_noise_epoch, Y: X_epoch})\n",
        "  print('Epoch', epoch, '/', epochs, 'loss', loss)\n",
        "\n",
        "# Pick any image\n",
        "X_actual = X_train[:10]\n",
        "noisy_image = X_train_noisy[:10]\n",
        "\n",
        "# Run it through the autoencoder\n",
        "denoised_image = sess.run(NN_output, feed_dict = {X:noisy_image})\n",
        "\n",
        "# Original image\n",
        "plt.imshow(X_actual[0].reshape(28,28), cmap='gray')\n",
        "plt.show()\n",
        "\n",
        "# Noisy image\n",
        "plt.imshow(noisy_image[0].reshape(28,28), cmap='gray')\n",
        "plt.show()\n",
        "\n",
        "# Noisy image\n",
        "plt.imshow(denoised_image[0].reshape(28,28), cmap='gray')\n",
        "plt.show()"
      ],
      "metadata": {
        "colab": {
          "base_uri": "https://localhost:8080/",
          "height": 1000
        },
        "id": "6bSDlqXN4Xr5",
        "outputId": "1bad3f4a-8db4-42fc-9d1f-a8ace8775252"
      },
      "execution_count": 13,
      "outputs": [
        {
          "output_type": "stream",
          "name": "stdout",
          "text": [
            "Epoch 0 / 100 loss 4873.843\n",
            "Epoch 1 / 100 loss 4693.058\n",
            "Epoch 2 / 100 loss 4592.3545\n",
            "Epoch 3 / 100 loss 4359.7354\n",
            "Epoch 4 / 100 loss 4091.9883\n",
            "Epoch 5 / 100 loss 3977.851\n",
            "Epoch 6 / 100 loss 3859.5078\n",
            "Epoch 7 / 100 loss 3809.827\n",
            "Epoch 8 / 100 loss 3751.576\n",
            "Epoch 9 / 100 loss 3718.3713\n",
            "Epoch 10 / 100 loss 3703.1404\n",
            "Epoch 11 / 100 loss 3653.3208\n",
            "Epoch 12 / 100 loss 3552.0073\n",
            "Epoch 13 / 100 loss 3581.054\n",
            "Epoch 14 / 100 loss 3576.6033\n",
            "Epoch 15 / 100 loss 3518.3262\n",
            "Epoch 16 / 100 loss 3567.5068\n",
            "Epoch 17 / 100 loss 3528.4077\n",
            "Epoch 18 / 100 loss 3483.0085\n",
            "Epoch 19 / 100 loss 3522.1787\n",
            "Epoch 20 / 100 loss 3434.0068\n",
            "Epoch 21 / 100 loss 3375.8875\n",
            "Epoch 22 / 100 loss 3330.0017\n",
            "Epoch 23 / 100 loss 3325.88\n",
            "Epoch 24 / 100 loss 3278.7102\n",
            "Epoch 25 / 100 loss 3318.2905\n",
            "Epoch 26 / 100 loss 3222.4001\n",
            "Epoch 27 / 100 loss 3221.3457\n",
            "Epoch 28 / 100 loss 3228.5461\n",
            "Epoch 29 / 100 loss 3307.7722\n",
            "Epoch 30 / 100 loss 3237.8652\n",
            "Epoch 31 / 100 loss 3212.3687\n",
            "Epoch 32 / 100 loss 3147.7432\n",
            "Epoch 33 / 100 loss 3156.898\n",
            "Epoch 34 / 100 loss 3100.3328\n",
            "Epoch 35 / 100 loss 3023.2917\n",
            "Epoch 36 / 100 loss 3029.5637\n",
            "Epoch 37 / 100 loss 3094.9604\n",
            "Epoch 38 / 100 loss 3009.5298\n",
            "Epoch 39 / 100 loss 2999.0554\n",
            "Epoch 40 / 100 loss 3066.5242\n",
            "Epoch 41 / 100 loss 3073.741\n",
            "Epoch 42 / 100 loss 2994.014\n",
            "Epoch 43 / 100 loss 3037.907\n",
            "Epoch 44 / 100 loss 2920.3164\n",
            "Epoch 45 / 100 loss 2982.971\n",
            "Epoch 46 / 100 loss 3033.497\n",
            "Epoch 47 / 100 loss 2944.3591\n",
            "Epoch 48 / 100 loss 2984.327\n",
            "Epoch 49 / 100 loss 2986.8494\n",
            "Epoch 50 / 100 loss 3002.553\n",
            "Epoch 51 / 100 loss 3009.9458\n",
            "Epoch 52 / 100 loss 2971.5579\n",
            "Epoch 53 / 100 loss 2915.96\n",
            "Epoch 54 / 100 loss 2943.6\n",
            "Epoch 55 / 100 loss 2950.633\n",
            "Epoch 56 / 100 loss 2912.941\n",
            "Epoch 57 / 100 loss 2878.0945\n",
            "Epoch 58 / 100 loss 2944.6912\n",
            "Epoch 59 / 100 loss 2886.0261\n",
            "Epoch 60 / 100 loss 2891.8213\n",
            "Epoch 61 / 100 loss 2911.478\n",
            "Epoch 62 / 100 loss 2847.7485\n",
            "Epoch 63 / 100 loss 2859.0583\n",
            "Epoch 64 / 100 loss 2852.118\n",
            "Epoch 65 / 100 loss 2969.2864\n",
            "Epoch 66 / 100 loss 2921.375\n",
            "Epoch 67 / 100 loss 2833.602\n",
            "Epoch 68 / 100 loss 2843.5732\n",
            "Epoch 69 / 100 loss 2869.6392\n",
            "Epoch 70 / 100 loss 2852.8848\n",
            "Epoch 71 / 100 loss 2857.7634\n",
            "Epoch 72 / 100 loss 2872.7832\n",
            "Epoch 73 / 100 loss 2831.3567\n",
            "Epoch 74 / 100 loss 2860.732\n",
            "Epoch 75 / 100 loss 2859.3564\n",
            "Epoch 76 / 100 loss 2828.4768\n",
            "Epoch 77 / 100 loss 2824.8667\n",
            "Epoch 78 / 100 loss 2867.3162\n",
            "Epoch 79 / 100 loss 2895.8093\n",
            "Epoch 80 / 100 loss 2855.9368\n",
            "Epoch 81 / 100 loss 2850.929\n",
            "Epoch 82 / 100 loss 2860.6895\n",
            "Epoch 83 / 100 loss 2853.5833\n",
            "Epoch 84 / 100 loss 2827.7588\n",
            "Epoch 85 / 100 loss 2800.7493\n",
            "Epoch 86 / 100 loss 2827.3845\n",
            "Epoch 87 / 100 loss 2770.5764\n",
            "Epoch 88 / 100 loss 2796.78\n",
            "Epoch 89 / 100 loss 2825.9429\n",
            "Epoch 90 / 100 loss 2864.9277\n",
            "Epoch 91 / 100 loss 2833.8877\n",
            "Epoch 92 / 100 loss 2865.8633\n",
            "Epoch 93 / 100 loss 2875.152\n",
            "Epoch 94 / 100 loss 2775.951\n",
            "Epoch 95 / 100 loss 2813.4143\n",
            "Epoch 96 / 100 loss 2826.982\n",
            "Epoch 97 / 100 loss 2764.9072\n",
            "Epoch 98 / 100 loss 2811.5266\n",
            "Epoch 99 / 100 loss 2750.8054\n"
          ]
        },
        {
          "output_type": "display_data",
          "data": {
            "text/plain": [
              "<Figure size 432x288 with 1 Axes>"
            ],
            "image/png": "[encoded data removed]"
          },
          "metadata": {
            "needs_background": "light"
          }
        },
        {
          "output_type": "display_data",
          "data": {
            "text/plain": [
              "<Figure size 432x288 with 1 Axes>"
            ],
            "image/png": "[encoded data removed]"
          },
          "metadata": {
            "needs_background": "light"
          }
        },
        {
          "output_type": "display_data",
          "data": {
            "text/plain": [
              "<Figure size 432x288 with 1 Axes>"
            ],
            "image/png": "[encoded data removed]"
          },
          "metadata": {
            "needs_background": "light"
          }
        }
      ]
    }
  ]
}