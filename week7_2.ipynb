{
  "nbformat": 4,
  "nbformat_minor": 0,
  "metadata": {
    "colab": {
      "provenance": [],
      "authorship_tag": "ABX9TyPd5oTxOXxhneTYfMx79dkw",
      "include_colab_link": true
    },
    "kernelspec": {
      "name": "python3",
      "display_name": "Python 3"
    },
    "language_info": {
      "name": "python"
    },
    "accelerator": "GPU",
    "widgets": {
      "application/vnd.jupyter.widget-state+json": {
        "04ecf216355f42a9aa57c35ce99d20a3": {
          "model_module": "@jupyter-widgets/controls",
          "model_name": "HBoxModel",
          "model_module_version": "1.5.0",
          "state": {
            "_dom_classes": [],
            "_model_module": "@jupyter-widgets/controls",
            "_model_module_version": "1.5.0",
            "_model_name": "HBoxModel",
            "_view_count": null,
            "_view_module": "@jupyter-widgets/controls",
            "_view_module_version": "1.5.0",
            "_view_name": "HBoxView",
            "box_style": "",
            "children": [
              "IPY_MODEL_8258762f71284289ba0f88ffa9e97345",
              "IPY_MODEL_61b42e4a6ad1494eabb996dae6897898",
              "IPY_MODEL_1511009a09494bb695007e9de4b5ba31"
            ],
            "layout": "IPY_MODEL_4ca7857d62a24f3591ef662e6060fabb"
          }
        },
        "8258762f71284289ba0f88ffa9e97345": {
          "model_module": "@jupyter-widgets/controls",
          "model_name": "HTMLModel",
          "model_module_version": "1.5.0",
          "state": {
            "_dom_classes": [],
            "_model_module": "@jupyter-widgets/controls",
            "_model_module_version": "1.5.0",
            "_model_name": "HTMLModel",
            "_view_count": null,
            "_view_module": "@jupyter-widgets/controls",
            "_view_module_version": "1.5.0",
            "_view_name": "HTMLView",
            "description": "",
            "description_tooltip": null,
            "layout": "IPY_MODEL_d3c314cc5ab740118fae8b257d759db8",
            "placeholder": "​",
            "style": "IPY_MODEL_832baaf2f86e4c1b8a79ef05a81527e7",
            "value": "100%"
          }
        },
        "61b42e4a6ad1494eabb996dae6897898": {
          "model_module": "@jupyter-widgets/controls",
          "model_name": "FloatProgressModel",
          "model_module_version": "1.5.0",
          "state": {
            "_dom_classes": [],
            "_model_module": "@jupyter-widgets/controls",
            "_model_module_version": "1.5.0",
            "_model_name": "FloatProgressModel",
            "_view_count": null,
            "_view_module": "@jupyter-widgets/controls",
            "_view_module_version": "1.5.0",
            "_view_name": "ProgressView",
            "bar_style": "success",
            "description": "",
            "description_tooltip": null,
            "layout": "IPY_MODEL_8028a8d47111435191a6b4f2f1577a41",
            "max": 170498071,
            "min": 0,
            "orientation": "horizontal",
            "style": "IPY_MODEL_72ad65b02f2b4212b9aa9b99c72fdec8",
            "value": 170498071
          }
        },
        "1511009a09494bb695007e9de4b5ba31": {
          "model_module": "@jupyter-widgets/controls",
          "model_name": "HTMLModel",
          "model_module_version": "1.5.0",
          "state": {
            "_dom_classes": [],
            "_model_module": "@jupyter-widgets/controls",
            "_model_module_version": "1.5.0",
            "_model_name": "HTMLModel",
            "_view_count": null,
            "_view_module": "@jupyter-widgets/controls",
            "_view_module_version": "1.5.0",
            "_view_name": "HTMLView",
            "description": "",
            "description_tooltip": null,
            "layout": "IPY_MODEL_f313c14761cc4d2f9f635952df6c0ee6",
            "placeholder": "​",
            "style": "IPY_MODEL_be07d36165bf4e3291c3c15da0e9dc83",
            "value": " 170498071/170498071 [00:13&lt;00:00, 13345411.02it/s]"
          }
        },
        "4ca7857d62a24f3591ef662e6060fabb": {
          "model_module": "@jupyter-widgets/base",
          "model_name": "LayoutModel",
          "model_module_version": "1.2.0",
          "state": {
            "_model_module": "@jupyter-widgets/base",
            "_model_module_version": "1.2.0",
            "_model_name": "LayoutModel",
            "_view_count": null,
            "_view_module": "@jupyter-widgets/base",
            "_view_module_version": "1.2.0",
            "_view_name": "LayoutView",
            "align_content": null,
            "align_items": null,
            "align_self": null,
            "border": null,
            "bottom": null,
            "display": null,
            "flex": null,
            "flex_flow": null,
            "grid_area": null,
            "grid_auto_columns": null,
            "grid_auto_flow": null,
            "grid_auto_rows": null,
            "grid_column": null,
            "grid_gap": null,
            "grid_row": null,
            "grid_template_areas": null,
            "grid_template_columns": null,
            "grid_template_rows": null,
            "height": null,
            "justify_content": null,
            "justify_items": null,
            "left": null,
            "margin": null,
            "max_height": null,
            "max_width": null,
            "min_height": null,
            "min_width": null,
            "object_fit": null,
            "object_position": null,
            "order": null,
            "overflow": null,
            "overflow_x": null,
            "overflow_y": null,
            "padding": null,
            "right": null,
            "top": null,
            "visibility": null,
            "width": null
          }
        },
        "d3c314cc5ab740118fae8b257d759db8": {
          "model_module": "@jupyter-widgets/base",
          "model_name": "LayoutModel",
          "model_module_version": "1.2.0",
          "state": {
            "_model_module": "@jupyter-widgets/base",
            "_model_module_version": "1.2.0",
            "_model_name": "LayoutModel",
            "_view_count": null,
            "_view_module": "@jupyter-widgets/base",
            "_view_module_version": "1.2.0",
            "_view_name": "LayoutView",
            "align_content": null,
            "align_items": null,
            "align_self": null,
            "border": null,
            "bottom": null,
            "display": null,
            "flex": null,
            "flex_flow": null,
            "grid_area": null,
            "grid_auto_columns": null,
            "grid_auto_flow": null,
            "grid_auto_rows": null,
            "grid_column": null,
            "grid_gap": null,
            "grid_row": null,
            "grid_template_areas": null,
            "grid_template_columns": null,
            "grid_template_rows": null,
            "height": null,
            "justify_content": null,
            "justify_items": null,
            "left": null,
            "margin": null,
            "max_height": null,
            "max_width": null,
            "min_height": null,
            "min_width": null,
            "object_fit": null,
            "object_position": null,
            "order": null,
            "overflow": null,
            "overflow_x": null,
            "overflow_y": null,
            "padding": null,
            "right": null,
            "top": null,
            "visibility": null,
            "width": null
          }
        },
        "832baaf2f86e4c1b8a79ef05a81527e7": {
          "model_module": "@jupyter-widgets/controls",
          "model_name": "DescriptionStyleModel",
          "model_module_version": "1.5.0",
          "state": {
            "_model_module": "@jupyter-widgets/controls",
            "_model_module_version": "1.5.0",
            "_model_name": "DescriptionStyleModel",
            "_view_count": null,
            "_view_module": "@jupyter-widgets/base",
            "_view_module_version": "1.2.0",
            "_view_name": "StyleView",
            "description_width": ""
          }
        },
        "8028a8d47111435191a6b4f2f1577a41": {
          "model_module": "@jupyter-widgets/base",
          "model_name": "LayoutModel",
          "model_module_version": "1.2.0",
          "state": {
            "_model_module": "@jupyter-widgets/base",
            "_model_module_version": "1.2.0",
            "_model_name": "LayoutModel",
            "_view_count": null,
            "_view_module": "@jupyter-widgets/base",
            "_view_module_version": "1.2.0",
            "_view_name": "LayoutView",
            "align_content": null,
            "align_items": null,
            "align_self": null,
            "border": null,
            "bottom": null,
            "display": null,
            "flex": null,
            "flex_flow": null,
            "grid_area": null,
            "grid_auto_columns": null,
            "grid_auto_flow": null,
            "grid_auto_rows": null,
            "grid_column": null,
            "grid_gap": null,
            "grid_row": null,
            "grid_template_areas": null,
            "grid_template_columns": null,
            "grid_template_rows": null,
            "height": null,
            "justify_content": null,
            "justify_items": null,
            "left": null,
            "margin": null,
            "max_height": null,
            "max_width": null,
            "min_height": null,
            "min_width": null,
            "object_fit": null,
            "object_position": null,
            "order": null,
            "overflow": null,
            "overflow_x": null,
            "overflow_y": null,
            "padding": null,
            "right": null,
            "top": null,
            "visibility": null,
            "width": null
          }
        },
        "72ad65b02f2b4212b9aa9b99c72fdec8": {
          "model_module": "@jupyter-widgets/controls",
          "model_name": "ProgressStyleModel",
          "model_module_version": "1.5.0",
          "state": {
            "_model_module": "@jupyter-widgets/controls",
            "_model_module_version": "1.5.0",
            "_model_name": "ProgressStyleModel",
            "_view_count": null,
            "_view_module": "@jupyter-widgets/base",
            "_view_module_version": "1.2.0",
            "_view_name": "StyleView",
            "bar_color": null,
            "description_width": ""
          }
        },
        "f313c14761cc4d2f9f635952df6c0ee6": {
          "model_module": "@jupyter-widgets/base",
          "model_name": "LayoutModel",
          "model_module_version": "1.2.0",
          "state": {
            "_model_module": "@jupyter-widgets/base",
            "_model_module_version": "1.2.0",
            "_model_name": "LayoutModel",
            "_view_count": null,
            "_view_module": "@jupyter-widgets/base",
            "_view_module_version": "1.2.0",
            "_view_name": "LayoutView",
            "align_content": null,
            "align_items": null,
            "align_self": null,
            "border": null,
            "bottom": null,
            "display": null,
            "flex": null,
            "flex_flow": null,
            "grid_area": null,
            "grid_auto_columns": null,
            "grid_auto_flow": null,
            "grid_auto_rows": null,
            "grid_column": null,
            "grid_gap": null,
            "grid_row": null,
            "grid_template_areas": null,
            "grid_template_columns": null,
            "grid_template_rows": null,
            "height": null,
            "justify_content": null,
            "justify_items": null,
            "left": null,
            "margin": null,
            "max_height": null,
            "max_width": null,
            "min_height": null,
            "min_width": null,
            "object_fit": null,
            "object_position": null,
            "order": null,
            "overflow": null,
            "overflow_x": null,
            "overflow_y": null,
            "padding": null,
            "right": null,
            "top": null,
            "visibility": null,
            "width": null
          }
        },
        "be07d36165bf4e3291c3c15da0e9dc83": {
          "model_module": "@jupyter-widgets/controls",
          "model_name": "DescriptionStyleModel",
          "model_module_version": "1.5.0",
          "state": {
            "_model_module": "@jupyter-widgets/controls",
            "_model_module_version": "1.5.0",
            "_model_name": "DescriptionStyleModel",
            "_view_count": null,
            "_view_module": "@jupyter-widgets/base",
            "_view_module_version": "1.2.0",
            "_view_name": "StyleView",
            "description_width": ""
          }
        }
      }
    }
  },
  "cells": [
    {
      "cell_type": "markdown",
      "metadata": {
        "id": "view-in-github",
        "colab_type": "text"
      },
      "source": [
        "<a href=\"https://colab.research.google.com/github/KhrTim/AI-application-systems/blob/main/week7_2.ipynb\" target=\"_parent\"><img src=\"https://colab.research.google.com/assets/colab-badge.svg\" alt=\"Open In Colab\"/></a>"
      ]
    },
    {
      "cell_type": "code",
      "execution_count": 1,
      "metadata": {
        "colab": {
          "base_uri": "https://localhost:8080/"
        },
        "id": "x07Ah7PO6AsK",
        "outputId": "faf2c817-b0b8-42e5-a0ed-c71e6f9603f3"
      },
      "outputs": [
        {
          "output_type": "stream",
          "name": "stdout",
          "text": [
            "Looking in indexes: https://pypi.org/simple, https://us-python.pkg.dev/colab-wheels/public/simple/\n",
            "Requirement already satisfied: requests in /usr/local/lib/python3.7/dist-packages (2.23.0)\n",
            "Requirement already satisfied: idna<3,>=2.5 in /usr/local/lib/python3.7/dist-packages (from requests) (2.10)\n",
            "Requirement already satisfied: chardet<4,>=3.0.2 in /usr/local/lib/python3.7/dist-packages (from requests) (3.0.4)\n",
            "Requirement already satisfied: certifi>=2017.4.17 in /usr/local/lib/python3.7/dist-packages (from requests) (2022.9.24)\n",
            "Requirement already satisfied: urllib3!=1.25.0,!=1.25.1,<1.26,>=1.21.1 in /usr/local/lib/python3.7/dist-packages (from requests) (1.24.3)\n"
          ]
        }
      ],
      "source": [
        "!pip install requests"
      ]
    },
    {
      "cell_type": "code",
      "source": [
        "import requests\n",
        "\n",
        "url = 'https://raw.githubusercontent.com/NVDLI/LDL/main/pt_framework/utilities.py'\n",
        "\n",
        "r = requests.get(url)\n",
        "\n",
        "with open('utilities.py', 'w') as f:\n",
        "  f.write(r.text)"
      ],
      "metadata": {
        "id": "3Ospi6i46GlD"
      },
      "execution_count": 2,
      "outputs": []
    },
    {
      "cell_type": "code",
      "source": [
        "import torch\n",
        "import torch.nn as nn\n",
        "import torchvision\n",
        "import torchvision.transforms as transforms\n",
        "from torchvision.datasets import CIFAR10\n",
        "from torch.utils.data import DataLoader\n",
        "import numpy as np\n",
        "from utilities import train_model\n"
      ],
      "metadata": {
        "id": "0NH-ptPo6olK"
      },
      "execution_count": 3,
      "outputs": []
    },
    {
      "cell_type": "code",
      "source": [
        "device = torch.device(\"cuda:0\" if torch.cuda.is_available() else \"cpu\")\n",
        "EPOCHS = 128\n",
        "BATCH_SIZE = 32"
      ],
      "metadata": {
        "id": "0BUz4bOY6orC"
      },
      "execution_count": 5,
      "outputs": []
    },
    {
      "cell_type": "code",
      "source": [
        "transform = transforms.Compose([transforms.ToTensor()])\n",
        "trainset = CIFAR10(root='./pt_data', train=True, download=True, transform=transform)\n",
        "trainloader = DataLoader(trainset, batch_size = len(trainset), shuffle = False)\n",
        "data = next(iter(trainloader))\n",
        "mean = data[0].mean()\n",
        "stddev = data[0].std()"
      ],
      "metadata": {
        "colab": {
          "base_uri": "https://localhost:8080/",
          "height": 84,
          "referenced_widgets": [
            "04ecf216355f42a9aa57c35ce99d20a3",
            "8258762f71284289ba0f88ffa9e97345",
            "61b42e4a6ad1494eabb996dae6897898",
            "1511009a09494bb695007e9de4b5ba31",
            "4ca7857d62a24f3591ef662e6060fabb",
            "d3c314cc5ab740118fae8b257d759db8",
            "832baaf2f86e4c1b8a79ef05a81527e7",
            "8028a8d47111435191a6b4f2f1577a41",
            "72ad65b02f2b4212b9aa9b99c72fdec8",
            "f313c14761cc4d2f9f635952df6c0ee6",
            "be07d36165bf4e3291c3c15da0e9dc83"
          ]
        },
        "id": "gILolTXy7r-P",
        "outputId": "8c0e5ed4-a173-4058-e616-6647efe8180e"
      },
      "execution_count": 6,
      "outputs": [
        {
          "output_type": "stream",
          "name": "stdout",
          "text": [
            "Downloading https://www.cs.toronto.edu/~kriz/cifar-10-python.tar.gz to ./pt_data/cifar-10-python.tar.gz\n"
          ]
        },
        {
          "output_type": "display_data",
          "data": {
            "text/plain": [
              "  0%|          | 0/170498071 [00:00<?, ?it/s]"
            ],
            "application/vnd.jupyter.widget-view+json": {
              "version_major": 2,
              "version_minor": 0,
              "model_id": "04ecf216355f42a9aa57c35ce99d20a3"
            }
          },
          "metadata": {}
        },
        {
          "output_type": "stream",
          "name": "stdout",
          "text": [
            "Extracting ./pt_data/cifar-10-python.tar.gz to ./pt_data\n"
          ]
        }
      ]
    },
    {
      "cell_type": "code",
      "source": [
        "transform = transforms.Compose(\n",
        "    [transforms.ToTensor(),\n",
        "     transforms.Normalize(mean, stddev)])\n",
        "\n",
        "trainset = CIFAR10(root = './pt_data', train=True, download=True, transform=transform)\n",
        "testset = CIFAR10(root = './pt_data', train=False, download=True, transform=transform)\n",
        "\n",
        "model = nn.Sequential(\n",
        "    nn.Conv2d(3, 64, 5, stride=2, padding=2),\n",
        "    nn.ReLU(),\n",
        "    nn.Conv2d(64, 64, 3, stride=2, padding=1),\n",
        "    nn.ReLU(),\n",
        "    nn.Flatten(),\n",
        "    nn.Linear(64 * 8 * 8, 10)\n",
        ")\n"
      ],
      "metadata": {
        "colab": {
          "base_uri": "https://localhost:8080/"
        },
        "id": "uZpxN0vM7sJc",
        "outputId": "04c33c55-a4cc-4365-847a-339a2a49c551"
      },
      "execution_count": 7,
      "outputs": [
        {
          "output_type": "stream",
          "name": "stdout",
          "text": [
            "Files already downloaded and verified\n",
            "Files already downloaded and verified\n"
          ]
        }
      ]
    },
    {
      "cell_type": "code",
      "source": [
        "layers = next(model.modules())\n",
        "conv_layer0 = layers[0]\n",
        "conv_layer1 = layers[2]\n",
        "output_layer = layers[5]\n",
        "\n",
        "nn.init.kaiming_normal_(conv_layer0.weight)\n",
        "nn.init.constant_(conv_layer0.bias, 0.0)\n",
        "nn.init.kaiming_normal_(conv_layer0.weight)\n",
        "nn.init.constant_(conv_layer1.bias, 0.0)\n",
        "\n",
        "nn.init.xavier_uniform_(output_layer.weight)\n",
        "nn.init.constant_(output_layer.bias, 0.0)\n",
        "\n",
        "optimizer = torch.optim.Adam(model.parameters())\n",
        "loss_function = nn.CrossEntropyLoss()\n",
        "\n",
        "train_model(model, device, EPOCHS, BATCH_SIZE, trainset, testset, optimizer, loss_function, 'acc')"
      ],
      "metadata": {
        "colab": {
          "base_uri": "https://localhost:8080/"
        },
        "id": "GzGW0pG096Ub",
        "outputId": "26243a06-0aff-4030-9106-151caaabede2"
      },
      "execution_count": 9,
      "outputs": [
        {
          "output_type": "stream",
          "name": "stdout",
          "text": [
            "Epoch 1/128 loss: 1.5996 - acc: 0.4289 - val_loss: 1.3987 - val_acc: 0.5037\n",
            "Epoch 2/128 loss: 1.2995 - acc: 0.5368 - val_loss: 1.3329 - val_acc: 0.5290\n",
            "Epoch 3/128 loss: 1.1809 - acc: 0.5797 - val_loss: 1.2838 - val_acc: 0.5485\n",
            "Epoch 4/128 loss: 1.0847 - acc: 0.6177 - val_loss: 1.2657 - val_acc: 0.5625\n",
            "Epoch 5/128 loss: 1.0101 - acc: 0.6440 - val_loss: 1.2921 - val_acc: 0.5610\n",
            "Epoch 6/128 loss: 0.9504 - acc: 0.6641 - val_loss: 1.2562 - val_acc: 0.5753\n",
            "Epoch 7/128 loss: 0.8960 - acc: 0.6838 - val_loss: 1.3213 - val_acc: 0.5780\n",
            "Epoch 8/128 loss: 0.8503 - acc: 0.7006 - val_loss: 1.3566 - val_acc: 0.5704\n",
            "Epoch 9/128 loss: 0.8093 - acc: 0.7173 - val_loss: 1.3550 - val_acc: 0.5693\n",
            "Epoch 10/128 loss: 0.7663 - acc: 0.7284 - val_loss: 1.4325 - val_acc: 0.5678\n",
            "Epoch 11/128 loss: 0.7315 - acc: 0.7392 - val_loss: 1.4308 - val_acc: 0.5763\n",
            "Epoch 12/128 loss: 0.6957 - acc: 0.7543 - val_loss: 1.5120 - val_acc: 0.5663\n",
            "Epoch 13/128 loss: 0.6643 - acc: 0.7661 - val_loss: 1.4613 - val_acc: 0.5777\n",
            "Epoch 14/128 loss: 0.6346 - acc: 0.7771 - val_loss: 1.6262 - val_acc: 0.5607\n",
            "Epoch 15/128 loss: 0.6061 - acc: 0.7846 - val_loss: 1.5930 - val_acc: 0.5679\n",
            "Epoch 16/128 loss: 0.5838 - acc: 0.7920 - val_loss: 1.6388 - val_acc: 0.5689\n",
            "Epoch 17/128 loss: 0.5561 - acc: 0.8020 - val_loss: 1.7148 - val_acc: 0.5707\n",
            "Epoch 18/128 loss: 0.5341 - acc: 0.8098 - val_loss: 1.8293 - val_acc: 0.5600\n",
            "Epoch 19/128 loss: 0.5080 - acc: 0.8191 - val_loss: 1.8640 - val_acc: 0.5497\n",
            "Epoch 20/128 loss: 0.4859 - acc: 0.8258 - val_loss: 1.9599 - val_acc: 0.5627\n",
            "Epoch 21/128 loss: 0.4655 - acc: 0.8317 - val_loss: 2.0241 - val_acc: 0.5544\n",
            "Epoch 22/128 loss: 0.4460 - acc: 0.8420 - val_loss: 2.1040 - val_acc: 0.5500\n",
            "Epoch 23/128 loss: 0.4249 - acc: 0.8479 - val_loss: 2.1655 - val_acc: 0.5556\n",
            "Epoch 24/128 loss: 0.4116 - acc: 0.8532 - val_loss: 2.2210 - val_acc: 0.5503\n",
            "Epoch 25/128 loss: 0.3888 - acc: 0.8627 - val_loss: 2.3013 - val_acc: 0.5525\n",
            "Epoch 26/128 loss: 0.3757 - acc: 0.8657 - val_loss: 2.4091 - val_acc: 0.5489\n",
            "Epoch 27/128 loss: 0.3596 - acc: 0.8707 - val_loss: 2.4351 - val_acc: 0.5543\n",
            "Epoch 28/128 loss: 0.3505 - acc: 0.8742 - val_loss: 2.5385 - val_acc: 0.5532\n",
            "Epoch 29/128 loss: 0.3354 - acc: 0.8788 - val_loss: 2.5516 - val_acc: 0.5483\n",
            "Epoch 30/128 loss: 0.3158 - acc: 0.8865 - val_loss: 2.7192 - val_acc: 0.5594\n",
            "Epoch 31/128 loss: 0.3047 - acc: 0.8909 - val_loss: 2.7628 - val_acc: 0.5505\n",
            "Epoch 32/128 loss: 0.2932 - acc: 0.8946 - val_loss: 2.7921 - val_acc: 0.5479\n",
            "Epoch 33/128 loss: 0.2830 - acc: 0.8976 - val_loss: 2.9501 - val_acc: 0.5546\n",
            "Epoch 34/128 loss: 0.2752 - acc: 0.9002 - val_loss: 2.9868 - val_acc: 0.5488\n",
            "Epoch 35/128 loss: 0.2660 - acc: 0.9037 - val_loss: 3.0246 - val_acc: 0.5449\n",
            "Epoch 36/128 loss: 0.2594 - acc: 0.9051 - val_loss: 3.1322 - val_acc: 0.5501\n",
            "Epoch 37/128 loss: 0.2468 - acc: 0.9103 - val_loss: 3.2467 - val_acc: 0.5505\n",
            "Epoch 38/128 loss: 0.2447 - acc: 0.9123 - val_loss: 3.3750 - val_acc: 0.5476\n",
            "Epoch 39/128 loss: 0.2341 - acc: 0.9155 - val_loss: 3.4820 - val_acc: 0.5434\n",
            "Epoch 40/128 loss: 0.2299 - acc: 0.9171 - val_loss: 3.6865 - val_acc: 0.5431\n",
            "Epoch 41/128 loss: 0.2210 - acc: 0.9197 - val_loss: 3.6483 - val_acc: 0.5450\n",
            "Epoch 42/128 loss: 0.2200 - acc: 0.9202 - val_loss: 3.7255 - val_acc: 0.5464\n",
            "Epoch 43/128 loss: 0.2056 - acc: 0.9254 - val_loss: 3.8171 - val_acc: 0.5466\n",
            "Epoch 44/128 loss: 0.2100 - acc: 0.9238 - val_loss: 3.8758 - val_acc: 0.5428\n",
            "Epoch 45/128 loss: 0.1950 - acc: 0.9289 - val_loss: 4.0277 - val_acc: 0.5461\n",
            "Epoch 46/128 loss: 0.2048 - acc: 0.9279 - val_loss: 4.0701 - val_acc: 0.5455\n",
            "Epoch 47/128 loss: 0.1829 - acc: 0.9341 - val_loss: 4.0867 - val_acc: 0.5509\n",
            "Epoch 48/128 loss: 0.1885 - acc: 0.9318 - val_loss: 4.1871 - val_acc: 0.5442\n",
            "Epoch 49/128 loss: 0.1923 - acc: 0.9323 - val_loss: 4.4149 - val_acc: 0.5404\n",
            "Epoch 50/128 loss: 0.1760 - acc: 0.9369 - val_loss: 4.2265 - val_acc: 0.5446\n",
            "Epoch 51/128 loss: 0.1767 - acc: 0.9368 - val_loss: 4.5469 - val_acc: 0.5562\n",
            "Epoch 52/128 loss: 0.1805 - acc: 0.9358 - val_loss: 4.5379 - val_acc: 0.5485\n",
            "Epoch 53/128 loss: 0.1743 - acc: 0.9390 - val_loss: 4.7114 - val_acc: 0.5484\n",
            "Epoch 54/128 loss: 0.1670 - acc: 0.9409 - val_loss: 4.7146 - val_acc: 0.5486\n",
            "Epoch 55/128 loss: 0.1740 - acc: 0.9398 - val_loss: 4.8508 - val_acc: 0.5464\n",
            "Epoch 56/128 loss: 0.1668 - acc: 0.9427 - val_loss: 5.0667 - val_acc: 0.5464\n",
            "Epoch 57/128 loss: 0.1596 - acc: 0.9441 - val_loss: 5.0143 - val_acc: 0.5437\n",
            "Epoch 58/128 loss: 0.1695 - acc: 0.9420 - val_loss: 5.0488 - val_acc: 0.5484\n",
            "Epoch 59/128 loss: 0.1569 - acc: 0.9454 - val_loss: 5.1712 - val_acc: 0.5435\n",
            "Epoch 60/128 loss: 0.1605 - acc: 0.9447 - val_loss: 5.2820 - val_acc: 0.5429\n",
            "Epoch 61/128 loss: 0.1564 - acc: 0.9455 - val_loss: 5.3238 - val_acc: 0.5467\n",
            "Epoch 62/128 loss: 0.1516 - acc: 0.9486 - val_loss: 5.3677 - val_acc: 0.5454\n",
            "Epoch 63/128 loss: 0.1472 - acc: 0.9494 - val_loss: 5.5051 - val_acc: 0.5437\n",
            "Epoch 64/128 loss: 0.1523 - acc: 0.9471 - val_loss: 5.5238 - val_acc: 0.5453\n",
            "Epoch 65/128 loss: 0.1526 - acc: 0.9490 - val_loss: 5.5024 - val_acc: 0.5557\n",
            "Epoch 66/128 loss: 0.1520 - acc: 0.9490 - val_loss: 5.6909 - val_acc: 0.5430\n",
            "Epoch 67/128 loss: 0.1403 - acc: 0.9527 - val_loss: 5.7312 - val_acc: 0.5378\n",
            "Epoch 68/128 loss: 0.1503 - acc: 0.9499 - val_loss: 5.9080 - val_acc: 0.5515\n",
            "Epoch 69/128 loss: 0.1527 - acc: 0.9494 - val_loss: 5.9435 - val_acc: 0.5461\n",
            "Epoch 70/128 loss: 0.1402 - acc: 0.9536 - val_loss: 6.2068 - val_acc: 0.5442\n",
            "Epoch 71/128 loss: 0.1489 - acc: 0.9509 - val_loss: 6.0621 - val_acc: 0.5482\n",
            "Epoch 72/128 loss: 0.1407 - acc: 0.9542 - val_loss: 6.0684 - val_acc: 0.5470\n",
            "Epoch 73/128 loss: 0.1372 - acc: 0.9546 - val_loss: 6.1931 - val_acc: 0.5443\n",
            "Epoch 74/128 loss: 0.1468 - acc: 0.9529 - val_loss: 6.1082 - val_acc: 0.5546\n",
            "Epoch 75/128 loss: 0.1458 - acc: 0.9528 - val_loss: 6.3792 - val_acc: 0.5435\n",
            "Epoch 76/128 loss: 0.1396 - acc: 0.9544 - val_loss: 6.5837 - val_acc: 0.5455\n",
            "Epoch 77/128 loss: 0.1339 - acc: 0.9571 - val_loss: 6.6079 - val_acc: 0.5413\n",
            "Epoch 78/128 loss: 0.1501 - acc: 0.9522 - val_loss: 6.5318 - val_acc: 0.5509\n",
            "Epoch 79/128 loss: 0.1308 - acc: 0.9584 - val_loss: 6.7636 - val_acc: 0.5444\n",
            "Epoch 80/128 loss: 0.1461 - acc: 0.9541 - val_loss: 6.8507 - val_acc: 0.5483\n",
            "Epoch 81/128 loss: 0.1370 - acc: 0.9569 - val_loss: 6.9073 - val_acc: 0.5478\n",
            "Epoch 82/128 loss: 0.1267 - acc: 0.9589 - val_loss: 7.0825 - val_acc: 0.5450\n",
            "Epoch 83/128 loss: 0.1446 - acc: 0.9549 - val_loss: 6.9792 - val_acc: 0.5419\n",
            "Epoch 84/128 loss: 0.1258 - acc: 0.9606 - val_loss: 7.1236 - val_acc: 0.5428\n",
            "Epoch 85/128 loss: 0.1425 - acc: 0.9561 - val_loss: 7.1058 - val_acc: 0.5503\n",
            "Epoch 86/128 loss: 0.1287 - acc: 0.9596 - val_loss: 7.2629 - val_acc: 0.5462\n",
            "Epoch 87/128 loss: 0.1388 - acc: 0.9587 - val_loss: 7.2568 - val_acc: 0.5392\n",
            "Epoch 88/128 loss: 0.1303 - acc: 0.9604 - val_loss: 7.3616 - val_acc: 0.5465\n",
            "Epoch 89/128 loss: 0.1430 - acc: 0.9571 - val_loss: 7.5059 - val_acc: 0.5410\n",
            "Epoch 90/128 loss: 0.1304 - acc: 0.9589 - val_loss: 7.4535 - val_acc: 0.5422\n",
            "Epoch 91/128 loss: 0.1242 - acc: 0.9621 - val_loss: 7.5295 - val_acc: 0.5485\n",
            "Epoch 92/128 loss: 0.1408 - acc: 0.9588 - val_loss: 7.7488 - val_acc: 0.5467\n",
            "Epoch 93/128 loss: 0.1330 - acc: 0.9611 - val_loss: 7.7965 - val_acc: 0.5453\n",
            "Epoch 94/128 loss: 0.1401 - acc: 0.9591 - val_loss: 8.1153 - val_acc: 0.5409\n",
            "Epoch 95/128 loss: 0.1372 - acc: 0.9605 - val_loss: 8.1193 - val_acc: 0.5438\n",
            "Epoch 96/128 loss: 0.1246 - acc: 0.9620 - val_loss: 7.9597 - val_acc: 0.5539\n",
            "Epoch 97/128 loss: 0.1370 - acc: 0.9602 - val_loss: 8.1070 - val_acc: 0.5398\n",
            "Epoch 98/128 loss: 0.1233 - acc: 0.9632 - val_loss: 8.2496 - val_acc: 0.5439\n",
            "Epoch 99/128 loss: 0.1376 - acc: 0.9613 - val_loss: 8.1155 - val_acc: 0.5474\n",
            "Epoch 100/128 loss: 0.1349 - acc: 0.9615 - val_loss: 8.2430 - val_acc: 0.5412\n",
            "Epoch 101/128 loss: 0.1259 - acc: 0.9639 - val_loss: 8.5579 - val_acc: 0.5459\n",
            "Epoch 102/128 loss: 0.1327 - acc: 0.9618 - val_loss: 8.4477 - val_acc: 0.5440\n",
            "Epoch 103/128 loss: 0.1390 - acc: 0.9618 - val_loss: 8.5718 - val_acc: 0.5450\n",
            "Epoch 104/128 loss: 0.1315 - acc: 0.9630 - val_loss: 8.4350 - val_acc: 0.5536\n",
            "Epoch 105/128 loss: 0.1351 - acc: 0.9626 - val_loss: 8.5880 - val_acc: 0.5508\n",
            "Epoch 106/128 loss: 0.1329 - acc: 0.9635 - val_loss: 8.6862 - val_acc: 0.5429\n",
            "Epoch 107/128 loss: 0.1255 - acc: 0.9651 - val_loss: 8.6928 - val_acc: 0.5515\n",
            "Epoch 108/128 loss: 0.1326 - acc: 0.9635 - val_loss: 9.1490 - val_acc: 0.5420\n",
            "Epoch 109/128 loss: 0.1301 - acc: 0.9636 - val_loss: 9.0849 - val_acc: 0.5432\n",
            "Epoch 110/128 loss: 0.1332 - acc: 0.9637 - val_loss: 9.0398 - val_acc: 0.5321\n",
            "Epoch 111/128 loss: 0.1274 - acc: 0.9658 - val_loss: 9.0452 - val_acc: 0.5470\n",
            "Epoch 112/128 loss: 0.1297 - acc: 0.9641 - val_loss: 9.1414 - val_acc: 0.5438\n",
            "Epoch 113/128 loss: 0.1404 - acc: 0.9640 - val_loss: 9.0698 - val_acc: 0.5543\n",
            "Epoch 114/128 loss: 0.1250 - acc: 0.9665 - val_loss: 9.5712 - val_acc: 0.5464\n",
            "Epoch 115/128 loss: 0.1301 - acc: 0.9648 - val_loss: 9.6391 - val_acc: 0.5385\n",
            "Epoch 116/128 loss: 0.1417 - acc: 0.9639 - val_loss: 9.4701 - val_acc: 0.5405\n",
            "Epoch 117/128 loss: 0.1218 - acc: 0.9659 - val_loss: 9.4504 - val_acc: 0.5410\n",
            "Epoch 118/128 loss: 0.1262 - acc: 0.9655 - val_loss: 9.9280 - val_acc: 0.5466\n",
            "Epoch 119/128 loss: 0.1310 - acc: 0.9658 - val_loss: 9.8355 - val_acc: 0.5341\n",
            "Epoch 120/128 loss: 0.1207 - acc: 0.9676 - val_loss: 9.8193 - val_acc: 0.5429\n",
            "Epoch 121/128 loss: 0.1347 - acc: 0.9649 - val_loss: 9.9684 - val_acc: 0.5439\n",
            "Epoch 122/128 loss: 0.1359 - acc: 0.9656 - val_loss: 10.2447 - val_acc: 0.5502\n",
            "Epoch 123/128 loss: 0.1234 - acc: 0.9673 - val_loss: 10.1897 - val_acc: 0.5424\n",
            "Epoch 124/128 loss: 0.1256 - acc: 0.9677 - val_loss: 10.2213 - val_acc: 0.5417\n",
            "Epoch 125/128 loss: 0.1378 - acc: 0.9649 - val_loss: 10.0571 - val_acc: 0.5429\n",
            "Epoch 126/128 loss: 0.1342 - acc: 0.9655 - val_loss: 10.5142 - val_acc: 0.5432\n",
            "Epoch 127/128 loss: 0.1318 - acc: 0.9668 - val_loss: 10.4021 - val_acc: 0.5505\n",
            "Epoch 128/128 loss: 0.1304 - acc: 0.9665 - val_loss: 10.4689 - val_acc: 0.5475\n"
          ]
        },
        {
          "output_type": "execute_result",
          "data": {
            "text/plain": [
              "[0.96649072296865, 0.5475239616613419]"
            ]
          },
          "metadata": {},
          "execution_count": 9
        }
      ]
    }
  ]
}